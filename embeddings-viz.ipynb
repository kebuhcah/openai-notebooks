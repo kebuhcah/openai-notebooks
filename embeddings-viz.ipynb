{
 "cells": [
  {
   "cell_type": "code",
   "execution_count": 7,
   "metadata": {},
   "outputs": [
    {
     "data": {
      "text/html": [
       "<div>\n",
       "<style scoped>\n",
       "    .dataframe tbody tr th:only-of-type {\n",
       "        vertical-align: middle;\n",
       "    }\n",
       "\n",
       "    .dataframe tbody tr th {\n",
       "        vertical-align: top;\n",
       "    }\n",
       "\n",
       "    .dataframe thead th {\n",
       "        text-align: right;\n",
       "    }\n",
       "</style>\n",
       "<table border=\"1\" class=\"dataframe\">\n",
       "  <thead>\n",
       "    <tr style=\"text-align: right;\">\n",
       "      <th></th>\n",
       "      <th>language</th>\n",
       "      <th>word_AI</th>\n",
       "    </tr>\n",
       "  </thead>\n",
       "  <tbody>\n",
       "    <tr>\n",
       "      <th>0</th>\n",
       "      <td>Arabic</td>\n",
       "      <td>الذكاء الصناعي</td>\n",
       "    </tr>\n",
       "    <tr>\n",
       "      <th>1</th>\n",
       "      <td>Bengali</td>\n",
       "      <td>কৃত্রিম বুদ্ধিমত্তা</td>\n",
       "    </tr>\n",
       "    <tr>\n",
       "      <th>2</th>\n",
       "      <td>Chinese</td>\n",
       "      <td>人工智能</td>\n",
       "    </tr>\n",
       "    <tr>\n",
       "      <th>3</th>\n",
       "      <td>Dutch</td>\n",
       "      <td>Kunstmatige intelligentie</td>\n",
       "    </tr>\n",
       "    <tr>\n",
       "      <th>4</th>\n",
       "      <td>French</td>\n",
       "      <td>Intelligence artificielle</td>\n",
       "    </tr>\n",
       "    <tr>\n",
       "      <th>5</th>\n",
       "      <td>German</td>\n",
       "      <td>Künstliche Intelligenz</td>\n",
       "    </tr>\n",
       "    <tr>\n",
       "      <th>6</th>\n",
       "      <td>Greek</td>\n",
       "      <td>Τεχνητή νοημοσύνη</td>\n",
       "    </tr>\n",
       "    <tr>\n",
       "      <th>7</th>\n",
       "      <td>Hebrew</td>\n",
       "      <td>בינה מלאכותית</td>\n",
       "    </tr>\n",
       "    <tr>\n",
       "      <th>8</th>\n",
       "      <td>Hindi</td>\n",
       "      <td>कृत्रिम बुद्धि</td>\n",
       "    </tr>\n",
       "    <tr>\n",
       "      <th>9</th>\n",
       "      <td>Indonesian</td>\n",
       "      <td>Kecerdasan Buatan</td>\n",
       "    </tr>\n",
       "    <tr>\n",
       "      <th>10</th>\n",
       "      <td>Italian</td>\n",
       "      <td>Intelligenza artificiale</td>\n",
       "    </tr>\n",
       "    <tr>\n",
       "      <th>11</th>\n",
       "      <td>Japanese</td>\n",
       "      <td>人工知能</td>\n",
       "    </tr>\n",
       "    <tr>\n",
       "      <th>12</th>\n",
       "      <td>Korean</td>\n",
       "      <td>인공 지능</td>\n",
       "    </tr>\n",
       "    <tr>\n",
       "      <th>13</th>\n",
       "      <td>Persian</td>\n",
       "      <td>هوش مصنوعی</td>\n",
       "    </tr>\n",
       "    <tr>\n",
       "      <th>14</th>\n",
       "      <td>Polish</td>\n",
       "      <td>Sztuczna inteligencja</td>\n",
       "    </tr>\n",
       "    <tr>\n",
       "      <th>15</th>\n",
       "      <td>Portuguese</td>\n",
       "      <td>Inteligência artificial</td>\n",
       "    </tr>\n",
       "    <tr>\n",
       "      <th>16</th>\n",
       "      <td>Russian</td>\n",
       "      <td>Искусственный интеллект</td>\n",
       "    </tr>\n",
       "    <tr>\n",
       "      <th>17</th>\n",
       "      <td>Spanish</td>\n",
       "      <td>Inteligencia artificial</td>\n",
       "    </tr>\n",
       "    <tr>\n",
       "      <th>18</th>\n",
       "      <td>Swahili</td>\n",
       "      <td>Akili bandia</td>\n",
       "    </tr>\n",
       "    <tr>\n",
       "      <th>19</th>\n",
       "      <td>Turkish</td>\n",
       "      <td>Yapay zeka</td>\n",
       "    </tr>\n",
       "    <tr>\n",
       "      <th>20</th>\n",
       "      <td>Afrikaans</td>\n",
       "      <td>Kunsmatige intelligensie</td>\n",
       "    </tr>\n",
       "    <tr>\n",
       "      <th>21</th>\n",
       "      <td>Albanian</td>\n",
       "      <td>Intelegjenca artificiale</td>\n",
       "    </tr>\n",
       "    <tr>\n",
       "      <th>22</th>\n",
       "      <td>Armenian</td>\n",
       "      <td>Արքայական բանականություն</td>\n",
       "    </tr>\n",
       "    <tr>\n",
       "      <th>23</th>\n",
       "      <td>Azerbaijani</td>\n",
       "      <td>Süni intellekt</td>\n",
       "    </tr>\n",
       "    <tr>\n",
       "      <th>24</th>\n",
       "      <td>Basque</td>\n",
       "      <td>Inteligentzia artifizial</td>\n",
       "    </tr>\n",
       "    <tr>\n",
       "      <th>25</th>\n",
       "      <td>Belarusian</td>\n",
       "      <td>Штучны інтэлект</td>\n",
       "    </tr>\n",
       "    <tr>\n",
       "      <th>26</th>\n",
       "      <td>Bosnian</td>\n",
       "      <td>Veštačka inteligencija</td>\n",
       "    </tr>\n",
       "    <tr>\n",
       "      <th>27</th>\n",
       "      <td>Bulgarian</td>\n",
       "      <td>Изкуствен интелект</td>\n",
       "    </tr>\n",
       "    <tr>\n",
       "      <th>28</th>\n",
       "      <td>Croatian</td>\n",
       "      <td>Umjetna inteligencija</td>\n",
       "    </tr>\n",
       "    <tr>\n",
       "      <th>29</th>\n",
       "      <td>Czech</td>\n",
       "      <td>Umělá inteligence</td>\n",
       "    </tr>\n",
       "    <tr>\n",
       "      <th>30</th>\n",
       "      <td>Danish</td>\n",
       "      <td>Kunstig intelligens</td>\n",
       "    </tr>\n",
       "    <tr>\n",
       "      <th>31</th>\n",
       "      <td>Estonian</td>\n",
       "      <td>Tehisintellekt</td>\n",
       "    </tr>\n",
       "    <tr>\n",
       "      <th>32</th>\n",
       "      <td>Filipino</td>\n",
       "      <td>Artipisyal na inteligensya</td>\n",
       "    </tr>\n",
       "    <tr>\n",
       "      <th>33</th>\n",
       "      <td>Finnish</td>\n",
       "      <td>Tekoäly</td>\n",
       "    </tr>\n",
       "    <tr>\n",
       "      <th>34</th>\n",
       "      <td>Georgian</td>\n",
       "      <td>ხელოვნური ჭკვიანდი</td>\n",
       "    </tr>\n",
       "    <tr>\n",
       "      <th>35</th>\n",
       "      <td>Hungarian</td>\n",
       "      <td>Mesterséges intelligencia</td>\n",
       "    </tr>\n",
       "    <tr>\n",
       "      <th>36</th>\n",
       "      <td>Icelandic</td>\n",
       "      <td>Gervigreind</td>\n",
       "    </tr>\n",
       "    <tr>\n",
       "      <th>37</th>\n",
       "      <td>Irish</td>\n",
       "      <td>Intleacht shaorga</td>\n",
       "    </tr>\n",
       "    <tr>\n",
       "      <th>38</th>\n",
       "      <td>Lithuanian</td>\n",
       "      <td>Dirbtinis intelektas</td>\n",
       "    </tr>\n",
       "    <tr>\n",
       "      <th>39</th>\n",
       "      <td>Mongolian</td>\n",
       "      <td>Хиймэл оюун</td>\n",
       "    </tr>\n",
       "  </tbody>\n",
       "</table>\n",
       "</div>"
      ],
      "text/plain": [
       "       language                     word_AI\n",
       "0        Arabic              الذكاء الصناعي\n",
       "1       Bengali         কৃত্রিম বুদ্ধিমত্তা\n",
       "2       Chinese                        人工智能\n",
       "3         Dutch   Kunstmatige intelligentie\n",
       "4        French   Intelligence artificielle\n",
       "5        German      Künstliche Intelligenz\n",
       "6         Greek           Τεχνητή νοημοσύνη\n",
       "7        Hebrew               בינה מלאכותית\n",
       "8         Hindi              कृत्रिम बुद्धि\n",
       "9    Indonesian           Kecerdasan Buatan\n",
       "10      Italian    Intelligenza artificiale\n",
       "11     Japanese                        人工知能\n",
       "12       Korean                       인공 지능\n",
       "13      Persian                  هوش مصنوعی\n",
       "14       Polish       Sztuczna inteligencja\n",
       "15   Portuguese     Inteligência artificial\n",
       "16      Russian     Искусственный интеллект\n",
       "17      Spanish     Inteligencia artificial\n",
       "18      Swahili                Akili bandia\n",
       "19      Turkish                  Yapay zeka\n",
       "20    Afrikaans    Kunsmatige intelligensie\n",
       "21     Albanian    Intelegjenca artificiale\n",
       "22     Armenian    Արքայական բանականություն\n",
       "23  Azerbaijani              Süni intellekt\n",
       "24       Basque    Inteligentzia artifizial\n",
       "25   Belarusian             Штучны інтэлект\n",
       "26      Bosnian      Veštačka inteligencija\n",
       "27    Bulgarian          Изкуствен интелект\n",
       "28     Croatian       Umjetna inteligencija\n",
       "29        Czech           Umělá inteligence\n",
       "30       Danish         Kunstig intelligens\n",
       "31     Estonian              Tehisintellekt\n",
       "32     Filipino  Artipisyal na inteligensya\n",
       "33      Finnish                     Tekoäly\n",
       "34     Georgian          ხელოვნური ჭკვიანდი\n",
       "35    Hungarian   Mesterséges intelligencia\n",
       "36    Icelandic                 Gervigreind\n",
       "37        Irish           Intleacht shaorga\n",
       "38   Lithuanian        Dirbtinis intelektas\n",
       "39    Mongolian                 Хиймэл оюун"
      ]
     },
     "execution_count": 7,
     "metadata": {},
     "output_type": "execute_result"
    }
   ],
   "source": [
    "import os\n",
    "from pathlib import Path\n",
    "\n",
    "import matplotlib as mpl\n",
    "import matplotlib.pyplot as plt\n",
    "import numpy as np\n",
    "from numpy import linalg as LA\n",
    "import openai\n",
    "import pandas as pd\n",
    "import plotly.express as px\n",
    "\n",
    "from dotenv import load_dotenv\n",
    "\n",
    "load_dotenv()\n",
    "\n",
    "openai.api_key = os.getenv('OPENAI_API_KEY')\n",
    "openai.organization = os.getenv('ORGANIZATION_ID')\n",
    "\n",
    "embedding_words = pd.DataFrame([['Arabic', 'الذكاء الصناعي'],\n",
    " ['Bengali', 'কৃত্রিম বুদ্ধিমত্তা'],\n",
    " ['Chinese', '人工智能'],\n",
    " ['Dutch', 'Kunstmatige intelligentie'],\n",
    " ['French', 'Intelligence artificielle'],\n",
    " ['German', 'Künstliche Intelligenz'],\n",
    " ['Greek', 'Τεχνητή νοημοσύνη'],\n",
    " ['Hebrew', 'בינה מלאכותית'],\n",
    " ['Hindi', 'कृत्रिम बुद्धि'],\n",
    " ['Indonesian', 'Kecerdasan Buatan'],\n",
    " ['Italian', 'Intelligenza artificiale'],\n",
    " ['Japanese', '人工知能'],\n",
    " ['Korean', '인공 지능'],\n",
    " ['Persian', 'هوش مصنوعی'],\n",
    " ['Polish', 'Sztuczna inteligencja'],\n",
    " ['Portuguese', 'Inteligência artificial'],\n",
    " ['Russian', 'Искусственный интеллект'],\n",
    " ['Spanish', 'Inteligencia artificial'],\n",
    " ['Swahili', 'Akili bandia'],\n",
    " ['Turkish', 'Yapay zeka'],\n",
    " ['Afrikaans', 'Kunsmatige intelligensie'],\n",
    " ['Albanian', 'Intelegjenca artificiale'],\n",
    " ['Armenian', 'Արքայական բանականություն'],\n",
    " ['Azerbaijani', 'Süni intellekt'],\n",
    " ['Basque', 'Inteligentzia artifizial'],\n",
    " ['Belarusian', 'Штучны інтэлект'],\n",
    " ['Bosnian', 'Veštačka inteligencija'],\n",
    " ['Bulgarian', 'Изкуствен интелект'],\n",
    " ['Croatian', 'Umjetna inteligencija'],\n",
    " ['Czech', 'Umělá inteligence'],\n",
    " ['Danish', 'Kunstig intelligens'],\n",
    " ['Estonian', 'Tehisintellekt'],\n",
    " ['Filipino', 'Artipisyal na inteligensya'],\n",
    " ['Finnish', 'Tekoäly'],\n",
    " ['Georgian', 'ხელოვნური ჭკვიანდი'],\n",
    " ['Hungarian', 'Mesterséges intelligencia'],\n",
    " ['Icelandic', 'Gervigreind'],\n",
    " ['Irish', 'Intleacht shaorga'],\n",
    " ['Lithuanian', 'Dirbtinis intelektas'],\n",
    " ['Mongolian', 'Хиймэл оюун']], columns=['language', 'word_AI'])\n",
    "\n",
    "embedding_words"
   ]
  },
  {
   "cell_type": "code",
   "execution_count": 2,
   "metadata": {},
   "outputs": [
    {
     "data": {
      "text/plain": [
       "'1. Amharic (Ethiopia): ተንከባላዊ አስተሳሰብ (tankabalawi āstesasb)\\n2. Burmese (Myanmar): အစ္တရံသောင်ကို ငြိမ်ရေး (artificial nyimyay)\\n3. Cebuano (Philippines): Artipisyal nga intelihensya\\n4. Gujarati (India): કૃત્રિમ બુદ્ધિ (kr̥trim buddhi)\\n5. Haitian Creole: Entèlijans atifisyèl\\n6. Hausa (Nigeria): Kuɗin hankali\\n7. Hmong (Vietnam, Laos, China): Kev tiv thaiv txog kev paub (Artificial paub)\\n8. Igbo (Nigeria): Ikenga omume amanwere\\n9. Inuktitut (Canada): ᐅᖃᐅᓯᓕᕆᓂᖅ ᐋᓐᓂᖅ (uqausiliriniq aanniq)\\n10. Kannada (India): ಕೃತಕ ಬುದ್ಧಿ (kṛtaka buddhi)\\n11. Khmer (Cambodia): ពហុមេរបុរាណ (pheakmareboran)\\n12. Kurdish (Kurdistan): Deha Zaniyê\\n13. Lao (Laos): ຄວາມຫຍິ້ນທີ່ສ້າງຂຶ້ນ (khuam hyn thi sang khun)\\n14. Malagasy (Madagascar): Harenina sy fahendrena manokana\\n15. Malayalam (India): കൃത്രിമ ബുദ്ധി (kr̥trima buddhi)\\n16. Maori (New Zealand): Atamai hangarau\\n17. Nahuatl (Mexico): Tlapohualmoztli\\n18. Pashto (Afghanistan, Pakistan): د سیمی لوړ ځان (dasme lulor zan)\\n19. Quechua (Peru, Ecuador, Bolivia): Wasichay yachay\\n20. Zulu (South Africa): Ucabangisiselo kodwa'"
      ]
     },
     "execution_count": 2,
     "metadata": {},
     "output_type": "execute_result"
    }
   ],
   "source": [
    "\"\"\"1. Amharic (Ethiopia): ተንከባላዊ አስተሳሰብ (tankabalawi āstesasb)\n",
    "2. Burmese (Myanmar): အစ္တရံသောင်ကို ငြိမ်ရေး (artificial nyimyay)\n",
    "3. Cebuano (Philippines): Artipisyal nga intelihensya\n",
    "4. Gujarati (India): કૃત્રિમ બુદ્ધિ (kr̥trim buddhi)\n",
    "5. Haitian Creole: Entèlijans atifisyèl\n",
    "6. Hausa (Nigeria): Kuɗin hankali\n",
    "7. Hmong (Vietnam, Laos, China): Kev tiv thaiv txog kev paub (Artificial paub)\n",
    "8. Igbo (Nigeria): Ikenga omume amanwere\n",
    "9. Inuktitut (Canada): ᐅᖃᐅᓯᓕᕆᓂᖅ ᐋᓐᓂᖅ (uqausiliriniq aanniq)\n",
    "10. Kannada (India): ಕೃತಕ ಬುದ್ಧಿ (kṛtaka buddhi)\n",
    "11. Khmer (Cambodia): ពហុមេរបុរាណ (pheakmareboran)\n",
    "12. Kurdish (Kurdistan): Deha Zaniyê\n",
    "13. Lao (Laos): ຄວາມຫຍິ້ນທີ່ສ້າງຂຶ້ນ (khuam hyn thi sang khun)\n",
    "14. Malagasy (Madagascar): Harenina sy fahendrena manokana\n",
    "15. Malayalam (India): കൃത്രിമ ബുദ്ധി (kr̥trima buddhi)\n",
    "16. Maori (New Zealand): Atamai hangarau\n",
    "17. Nahuatl (Mexico): Tlapohualmoztli\n",
    "18. Pashto (Afghanistan, Pakistan): د سیمی لوړ ځان (dasme lulor zan)\n",
    "19. Quechua (Peru, Ecuador, Bolivia): Wasichay yachay\n",
    "20. Zulu (South Africa): Ucabangisiselo kodwa\"\"\""
   ]
  },
  {
   "cell_type": "code",
   "execution_count": 3,
   "metadata": {},
   "outputs": [
    {
     "data": {
      "text/plain": [
       "(40, 1536)"
      ]
     },
     "execution_count": 3,
     "metadata": {},
     "output_type": "execute_result"
    }
   ],
   "source": [
    "#embedding_data = openai.Embedding.create(input=list(embedding_words.word_AI), model=\"text-embedding-ada-002\")['data']\n",
    "#embeddings = [e[\"embedding\"] for e in embedding_data]\n",
    "#np.savetxt('./artificial-intelligence.emb', embeddings)\n",
    "embeddings = np.loadtxt('./artificial-intelligence.emb')\n",
    "embeddings.shape\n"
   ]
  },
  {
   "cell_type": "code",
   "execution_count": 4,
   "metadata": {},
   "outputs": [
    {
     "data": {
      "text/plain": [
       "<matplotlib.image.AxesImage at 0x128cb77f0>"
      ]
     },
     "execution_count": 4,
     "metadata": {},
     "output_type": "execute_result"
    },
    {
     "data": {
      "image/png": "[encoded data removed]",
      "text/plain": [
       "<Figure size 432x288 with 1 Axes>"
      ]
     },
     "metadata": {
      "needs_background": "light"
     },
     "output_type": "display_data"
    }
   ],
   "source": [
    "plt.imshow(embeddings @ embeddings.T, cmap='PiYG')"
   ]
  },
  {
   "cell_type": "code",
   "execution_count": 5,
   "metadata": {},
   "outputs": [
    {
     "name": "stdout",
     "output_type": "stream",
     "text": [
      "[0.15468342 0.07252517 0.06738256 0.05688259 0.04760545]\n"
     ]
    },
    {
     "data": {
      "image/png": "[encoded data removed]",
      "text/plain": [
       "<Figure size 1600x1600 with 1 Axes>"
      ]
     },
     "metadata": {
      "needs_background": "light"
     },
     "output_type": "display_data"
    }
   ],
   "source": [
    "from sklearn.decomposition import PCA\n",
    "\n",
    "pca = PCA(n_components=5)\n",
    "\n",
    "fit_count = 40\n",
    "transform_count = 40\n",
    "\n",
    "pca.fit(embeddings[:fit_count])\n",
    "\n",
    "embedding_transform = pca.transform(embeddings[:transform_count])\n",
    "\n",
    "print(pca.explained_variance_ratio_)\n",
    "\n",
    "fig, ax = plt.subplots(figsize=(8,8), dpi=200)\n",
    "\n",
    "#X = LA.norm(embedding_transform.T[0], axis=0)\n",
    "#Y = LA.norm(embedding_transform.T[1:2], axis=0)\n",
    "#C = LA.norm(embedding_transform.T[2:3], axis=0)\n",
    "X = embedding_transform.T[0]\n",
    "Y = embedding_transform.T[2]\n",
    "C = LA.norm(embedding_transform.T[0:1], axis=0)\n",
    "\n",
    "ax.scatter(X, Y, cmap='seismic')\n",
    "\n",
    "coords = np.vstack([X, Y]).T\n",
    "\n",
    "for idx, name in enumerate(embedding_words.language[:transform_count]):\n",
    "    ax.annotate(name, coords[idx] + (0.002, 0.002))"
   ]
  },
  {
   "cell_type": "code",
   "execution_count": 9,
   "metadata": {},
   "outputs": [
    {
     "name": "stderr",
     "output_type": "stream",
     "text": [
      "/Users/sunkev/miniforge3/lib/python3.9/site-packages/sklearn/manifold/_t_sne.py:780: FutureWarning: The default initialization in TSNE will change from 'random' to 'pca' in 1.2.\n",
      "  warnings.warn(\n",
      "/Users/sunkev/miniforge3/lib/python3.9/site-packages/sklearn/manifold/_t_sne.py:790: FutureWarning: The default learning rate in TSNE will change from 200.0 to 'auto' in 1.2.\n",
      "  warnings.warn(\n"
     ]
    },
    {
     "data": {
      "text/plain": [
       "0.38308078050613403"
      ]
     },
     "execution_count": 9,
     "metadata": {},
     "output_type": "execute_result"
    }
   ],
   "source": [
    "from sklearn.manifold import TSNE\n",
    "\n",
    "X = embeddings[:transform_count]\n",
    "\n",
    "tsne = TSNE(n_components=2, random_state=42)\n",
    "X_tsne = tsne.fit_transform(X)\n",
    "tsne.kl_divergence_"
   ]
  },
  {
   "cell_type": "code",
   "execution_count": 16,
   "metadata": {},
   "outputs": [
    {
     "data": {
      "text/plain": [
       "array(['Arabic', 'Bengali', 'Chinese', 'Dutch', 'French', 'German',\n",
       "       'Greek', 'Hebrew', 'Hindi', 'Indonesian', 'Italian', 'Japanese',\n",
       "       'Korean', 'Persian', 'Polish', 'Portuguese', 'Russian', 'Spanish',\n",
       "       'Swahili', 'Turkish', 'Afrikaans', 'Albanian', 'Armenian',\n",
       "       'Azerbaijani', 'Basque', 'Belarusian', 'Bosnian', 'Bulgarian',\n",
       "       'Croatian', 'Czech', 'Danish', 'Estonian', 'Filipino', 'Finnish',\n",
       "       'Georgian', 'Hungarian', 'Icelandic', 'Irish', 'Lithuanian',\n",
       "       'Mongolian'], dtype=object)"
      ]
     },
     "execution_count": 16,
     "metadata": {},
     "output_type": "execute_result"
    }
   ],
   "source": [
    "embedding_words.language[:transform_count].values"
   ]
  },
  {
   "cell_type": "code",
   "execution_count": 20,
   "metadata": {},
   "outputs": [
    {
     "data": {
      "application/vnd.plotly.v1+json": {
       "config": {
        "plotlyServerURL": "https://plot.ly"
       },
       "data": [
        {
         "hovertemplate": "x=%{x}<br>y=%{y}<br>text=%{text}<extra></extra>",
         "legendgroup": "",
         "marker": {
          "color": "#636efa",
          "symbol": "circle"
         },
         "mode": "markers+text",
         "name": "",
         "orientation": "v",
         "showlegend": false,
         "text": [
          "Arabic",
          "Bengali",
          "Chinese",
          "Dutch",
          "French",
          "German",
          "Greek",
          "Hebrew",
          "Hindi",
          "Indonesian",
          "Italian",
          "Japanese",
          "Korean",
          "Persian",
          "Polish",
          "Portuguese",
          "Russian",
          "Spanish",
          "Swahili",
          "Turkish",
          "Afrikaans",
          "Albanian",
          "Armenian",
          "Azerbaijani",
          "Basque",
          "Belarusian",
          "Bosnian",
          "Bulgarian",
          "Croatian",
          "Czech",
          "Danish",
          "Estonian",
          "Filipino",
          "Finnish",
          "Georgian",
          "Hungarian",
          "Icelandic",
          "Irish",
          "Lithuanian",
          "Mongolian"
         ],
         "type": "scatter",
         "x": [
          -26.83979606628418,
          -52.79753875732422,
          19.068737030029297,
          -19.58931541442871,
          12.331222534179688,
          -25.216411590576172,
          -58.15472412109375,
          -75.31439971923828,
          -50.92107391357422,
          65.11072540283203,
          11.348134994506836,
          50.62458801269531,
          58.3667106628418,
          -65.19419860839844,
          27.24772071838379,
          -8.612076759338379,
          -42.442138671875,
          -4.513704776763916,
          4.577664375305176,
          43.51483917236328,
          -21.405214309692383,
          -2.8370633125305176,
          -99.32865142822266,
          61.406837463378906,
          17.907161712646484,
          -60.0159912109375,
          16.155982971191406,
          -31.555843353271484,
          -5.44596004486084,
          8.049798011779785,
          -3.559236526489258,
          43.38203430175781,
          38.55333709716797,
          28.3565731048584,
          -83.98469543457031,
          32.92362976074219,
          -30.01726722717285,
          -85.90213775634766,
          -30.92279052734375,
          -95.22968292236328
         ],
         "xaxis": "x",
         "y": [
          -69.30596923828125,
          -11.015249252319336,
          -34.316707611083984,
          -4.419589996337891,
          3.5268237590789795,
          13.634330749511719,
          -54.56055450439453,
          -28.768024444580078,
          -27.229022979736328,
          -3.065908670425415,
          22.16692543029785,
          47.413936614990234,
          24.42125701904297,
          10.709123611450195,
          37.907623291015625,
          28.486770629882812,
          28.948400497436523,
          10.499800682067871,
          -74.49392700195312,
          -21.311120986938477,
          -22.768356323242188,
          -37.49723815917969,
          -15.79300594329834,
          -33.59357452392578,
          -13.678540229797363,
          45.52023696899414,
          65.54586791992188,
          42.577396392822266,
          58.446807861328125,
          44.66895294189453,
          -14.037245750427246,
          -44.2000617980957,
          -2.5117344856262207,
          -60.90899658203125,
          -6.503973960876465,
          16.432552337646484,
          -43.67266845703125,
          -53.71218490600586,
          65.17334747314453,
          14.925809860229492
         ],
         "yaxis": "y"
        }
       ],
       "layout": {
        "height": 800,
        "legend": {
         "tracegroupgap": 0
        },
        "margin": {
         "t": 60
        },
        "template": {
         "data": {
          "bar": [
           {
            "error_x": {
             "color": "#2a3f5f"
            },
            "error_y": {
             "color": "#2a3f5f"
            },
            "marker": {
             "line": {
              "color": "#E5ECF6",
              "width": 0.5
             },
             "pattern": {
              "fillmode": "overlay",
              "size": 10,
              "solidity": 0.2
             }
            },
            "type": "bar"
           }
          ],
          "barpolar": [
           {
            "marker": {
             "line": {
              "color": "#E5ECF6",
              "width": 0.5
             },
             "pattern": {
              "fillmode": "overlay",
              "size": 10,
              "solidity": 0.2
             }
            },
            "type": "barpolar"
           }
          ],
          "carpet": [
           {
            "aaxis": {
             "endlinecolor": "#2a3f5f",
             "gridcolor": "white",
             "linecolor": "white",
             "minorgridcolor": "white",
             "startlinecolor": "#2a3f5f"
            },
            "baxis": {
             "endlinecolor": "#2a3f5f",
             "gridcolor": "white",
             "linecolor": "white",
             "minorgridcolor": "white",
             "startlinecolor": "#2a3f5f"
            },
            "type": "carpet"
           }
          ],
          "choropleth": [
           {
            "colorbar": {
             "outlinewidth": 0,
             "ticks": ""
            },
            "type": "choropleth"
           }
          ],
          "contour": [
           {
            "colorbar": {
             "outlinewidth": 0,
             "ticks": ""
            },
            "colorscale": [
             [
              0,
              "#0d0887"
             ],
             [
              0.1111111111111111,
              "#46039f"
             ],
             [
              0.2222222222222222,
              "#7201a8"
             ],
             [
              0.3333333333333333,
              "#9c179e"
             ],
             [
              0.4444444444444444,
              "#bd3786"
             ],
             [
              0.5555555555555556,
              "#d8576b"
             ],
             [
              0.6666666666666666,
              "#ed7953"
             ],
             [
              0.7777777777777778,
              "#fb9f3a"
             ],
             [
              0.8888888888888888,
              "#fdca26"
             ],
             [
              1,
              "#f0f921"
             ]
            ],
            "type": "contour"
           }
          ],
          "contourcarpet": [
           {
            "colorbar": {
             "outlinewidth": 0,
             "ticks": ""
            },
            "type": "contourcarpet"
           }
          ],
          "heatmap": [
           {
            "colorbar": {
             "outlinewidth": 0,
             "ticks": ""
            },
            "colorscale": [
             [
              0,
              "#0d0887"
             ],
             [
              0.1111111111111111,
              "#46039f"
             ],
             [
              0.2222222222222222,
              "#7201a8"
             ],
             [
              0.3333333333333333,
              "#9c179e"
             ],
             [
              0.4444444444444444,
              "#bd3786"
             ],
             [
              0.5555555555555556,
              "#d8576b"
             ],
             [
              0.6666666666666666,
              "#ed7953"
             ],
             [
              0.7777777777777778,
              "#fb9f3a"
             ],
             [
              0.8888888888888888,
              "#fdca26"
             ],
             [
              1,
              "#f0f921"
             ]
            ],
            "type": "heatmap"
           }
          ],
          "heatmapgl": [
           {
            "colorbar": {
             "outlinewidth": 0,
             "ticks": ""
            },
            "colorscale": [
             [
              0,
              "#0d0887"
             ],
             [
              0.1111111111111111,
              "#46039f"
             ],
             [
              0.2222222222222222,
              "#7201a8"
             ],
             [
              0.3333333333333333,
              "#9c179e"
             ],
             [
              0.4444444444444444,
              "#bd3786"
             ],
             [
              0.5555555555555556,
              "#d8576b"
             ],
             [
              0.6666666666666666,
              "#ed7953"
             ],
             [
              0.7777777777777778,
              "#fb9f3a"
             ],
             [
              0.8888888888888888,
              "#fdca26"
             ],
             [
              1,
              "#f0f921"
             ]
            ],
            "type": "heatmapgl"
           }
          ],
          "histogram": [
           {
            "marker": {
             "pattern": {
              "fillmode": "overlay",
              "size": 10,
              "solidity": 0.2
             }
            },
            "type": "histogram"
           }
          ],
          "histogram2d": [
           {
            "colorbar": {
             "outlinewidth": 0,
             "ticks": ""
            },
            "colorscale": [
             [
              0,
              "#0d0887"
             ],
             [
              0.1111111111111111,
              "#46039f"
             ],
             [
              0.2222222222222222,
              "#7201a8"
             ],
             [
              0.3333333333333333,
              "#9c179e"
             ],
             [
              0.4444444444444444,
              "#bd3786"
             ],
             [
              0.5555555555555556,
              "#d8576b"
             ],
             [
              0.6666666666666666,
              "#ed7953"
             ],
             [
              0.7777777777777778,
              "#fb9f3a"
             ],
             [
              0.8888888888888888,
              "#fdca26"
             ],
             [
              1,
              "#f0f921"
             ]
            ],
            "type": "histogram2d"
           }
          ],
          "histogram2dcontour": [
           {
            "colorbar": {
             "outlinewidth": 0,
             "ticks": ""
            },
            "colorscale": [
             [
              0,
              "#0d0887"
             ],
             [
              0.1111111111111111,
              "#46039f"
             ],
             [
              0.2222222222222222,
              "#7201a8"
             ],
             [
              0.3333333333333333,
              "#9c179e"
             ],
             [
              0.4444444444444444,
              "#bd3786"
             ],
             [
              0.5555555555555556,
              "#d8576b"
             ],
             [
              0.6666666666666666,
              "#ed7953"
             ],
             [
              0.7777777777777778,
              "#fb9f3a"
             ],
             [
              0.8888888888888888,
              "#fdca26"
             ],
             [
              1,
              "#f0f921"
             ]
            ],
            "type": "histogram2dcontour"
           }
          ],
          "mesh3d": [
           {
            "colorbar": {
             "outlinewidth": 0,
             "ticks": ""
            },
            "type": "mesh3d"
           }
          ],
          "parcoords": [
           {
            "line": {
             "colorbar": {
              "outlinewidth": 0,
              "ticks": ""
             }
            },
            "type": "parcoords"
           }
          ],
          "pie": [
           {
            "automargin": true,
            "type": "pie"
           }
          ],
          "scatter": [
           {
            "fillpattern": {
             "fillmode": "overlay",
             "size": 10,
             "solidity": 0.2
            },
            "type": "scatter"
           }
          ],
          "scatter3d": [
           {
            "line": {
             "colorbar": {
              "outlinewidth": 0,
              "ticks": ""
             }
            },
            "marker": {
             "colorbar": {
              "outlinewidth": 0,
              "ticks": ""
             }
            },
            "type": "scatter3d"
           }
          ],
          "scattercarpet": [
           {
            "marker": {
             "colorbar": {
              "outlinewidth": 0,
              "ticks": ""
             }
            },
            "type": "scattercarpet"
           }
          ],
          "scattergeo": [
           {
            "marker": {
             "colorbar": {
              "outlinewidth": 0,
              "ticks": ""
             }
            },
            "type": "scattergeo"
           }
          ],
          "scattergl": [
           {
            "marker": {
             "colorbar": {
              "outlinewidth": 0,
              "ticks": ""
             }
            },
            "type": "scattergl"
           }
          ],
          "scattermapbox": [
           {
            "marker": {
             "colorbar": {
              "outlinewidth": 0,
              "ticks": ""
             }
            },
            "type": "scattermapbox"
           }
          ],
          "scatterpolar": [
           {
            "marker": {
             "colorbar": {
              "outlinewidth": 0,
              "ticks": ""
             }
            },
            "type": "scatterpolar"
           }
          ],
          "scatterpolargl": [
           {
            "marker": {
             "colorbar": {
              "outlinewidth": 0,
              "ticks": ""
             }
            },
            "type": "scatterpolargl"
           }
          ],
          "scatterternary": [
           {
            "marker": {
             "colorbar": {
              "outlinewidth": 0,
              "ticks": ""
             }
            },
            "type": "scatterternary"
           }
          ],
          "surface": [
           {
            "colorbar": {
             "outlinewidth": 0,
             "ticks": ""
            },
            "colorscale": [
             [
              0,
              "#0d0887"
             ],
             [
              0.1111111111111111,
              "#46039f"
             ],
             [
              0.2222222222222222,
              "#7201a8"
             ],
             [
              0.3333333333333333,
              "#9c179e"
             ],
             [
              0.4444444444444444,
              "#bd3786"
             ],
             [
              0.5555555555555556,
              "#d8576b"
             ],
             [
              0.6666666666666666,
              "#ed7953"
             ],
             [
              0.7777777777777778,
              "#fb9f3a"
             ],
             [
              0.8888888888888888,
              "#fdca26"
             ],
             [
              1,
              "#f0f921"
             ]
            ],
            "type": "surface"
           }
          ],
          "table": [
           {
            "cells": {
             "fill": {
              "color": "#EBF0F8"
             },
             "line": {
              "color": "white"
             }
            },
            "header": {
             "fill": {
              "color": "#C8D4E3"
             },
             "line": {
              "color": "white"
             }
            },
            "type": "table"
           }
          ]
         },
         "layout": {
          "annotationdefaults": {
           "arrowcolor": "#2a3f5f",
           "arrowhead": 0,
           "arrowwidth": 1
          },
          "autotypenumbers": "strict",
          "coloraxis": {
           "colorbar": {
            "outlinewidth": 0,
            "ticks": ""
           }
          },
          "colorscale": {
           "diverging": [
            [
             0,
             "#8e0152"
            ],
            [
             0.1,
             "#c51b7d"
            ],
            [
             0.2,
             "#de77ae"
            ],
            [
             0.3,
             "#f1b6da"
            ],
            [
             0.4,
             "#fde0ef"
            ],
            [
             0.5,
             "#f7f7f7"
            ],
            [
             0.6,
             "#e6f5d0"
            ],
            [
             0.7,
             "#b8e186"
            ],
            [
             0.8,
             "#7fbc41"
            ],
            [
             0.9,
             "#4d9221"
            ],
            [
             1,
             "#276419"
            ]
           ],
           "sequential": [
            [
             0,
             "#0d0887"
            ],
            [
             0.1111111111111111,
             "#46039f"
            ],
            [
             0.2222222222222222,
             "#7201a8"
            ],
            [
             0.3333333333333333,
             "#9c179e"
            ],
            [
             0.4444444444444444,
             "#bd3786"
            ],
            [
             0.5555555555555556,
             "#d8576b"
            ],
            [
             0.6666666666666666,
             "#ed7953"
            ],
            [
             0.7777777777777778,
             "#fb9f3a"
            ],
            [
             0.8888888888888888,
             "#fdca26"
            ],
            [
             1,
             "#f0f921"
            ]
           ],
           "sequentialminus": [
            [
             0,
             "#0d0887"
            ],
            [
             0.1111111111111111,
             "#46039f"
            ],
            [
             0.2222222222222222,
             "#7201a8"
            ],
            [
             0.3333333333333333,
             "#9c179e"
            ],
            [
             0.4444444444444444,
             "#bd3786"
            ],
            [
             0.5555555555555556,
             "#d8576b"
            ],
            [
             0.6666666666666666,
             "#ed7953"
            ],
            [
             0.7777777777777778,
             "#fb9f3a"
            ],
            [
             0.8888888888888888,
             "#fdca26"
            ],
            [
             1,
             "#f0f921"
            ]
           ]
          },
          "colorway": [
           "#636efa",
           "#EF553B",
           "#00cc96",
           "#ab63fa",
           "#FFA15A",
           "#19d3f3",
           "#FF6692",
           "#B6E880",
           "#FF97FF",
           "#FECB52"
          ],
          "font": {
           "color": "#2a3f5f"
          },
          "geo": {
           "bgcolor": "white",
           "lakecolor": "white",
           "landcolor": "#E5ECF6",
           "showlakes": true,
           "showland": true,
           "subunitcolor": "white"
          },
          "hoverlabel": {
           "align": "left"
          },
          "hovermode": "closest",
          "mapbox": {
           "style": "light"
          },
          "paper_bgcolor": "white",
          "plot_bgcolor": "#E5ECF6",
          "polar": {
           "angularaxis": {
            "gridcolor": "white",
            "linecolor": "white",
            "ticks": ""
           },
           "bgcolor": "#E5ECF6",
           "radialaxis": {
            "gridcolor": "white",
            "linecolor": "white",
            "ticks": ""
           }
          },
          "scene": {
           "xaxis": {
            "backgroundcolor": "#E5ECF6",
            "gridcolor": "white",
            "gridwidth": 2,
            "linecolor": "white",
            "showbackground": true,
            "ticks": "",
            "zerolinecolor": "white"
           },
           "yaxis": {
            "backgroundcolor": "#E5ECF6",
            "gridcolor": "white",
            "gridwidth": 2,
            "linecolor": "white",
            "showbackground": true,
            "ticks": "",
            "zerolinecolor": "white"
           },
           "zaxis": {
            "backgroundcolor": "#E5ECF6",
            "gridcolor": "white",
            "gridwidth": 2,
            "linecolor": "white",
            "showbackground": true,
            "ticks": "",
            "zerolinecolor": "white"
           }
          },
          "shapedefaults": {
           "line": {
            "color": "#2a3f5f"
           }
          },
          "ternary": {
           "aaxis": {
            "gridcolor": "white",
            "linecolor": "white",
            "ticks": ""
           },
           "baxis": {
            "gridcolor": "white",
            "linecolor": "white",
            "ticks": ""
           },
           "bgcolor": "#E5ECF6",
           "caxis": {
            "gridcolor": "white",
            "linecolor": "white",
            "ticks": ""
           }
          },
          "title": {
           "x": 0.05
          },
          "xaxis": {
           "automargin": true,
           "gridcolor": "white",
           "linecolor": "white",
           "ticks": "",
           "title": {
            "standoff": 15
           },
           "zerolinecolor": "white",
           "zerolinewidth": 2
          },
          "yaxis": {
           "automargin": true,
           "gridcolor": "white",
           "linecolor": "white",
           "ticks": "",
           "title": {
            "standoff": 15
           },
           "zerolinecolor": "white",
           "zerolinewidth": 2
          }
         }
        },
        "title": {
         "text": "t-SNE visualization of language embeddings"
        },
        "width": 800,
        "xaxis": {
         "anchor": "y",
         "domain": [
          0,
          1
         ],
         "title": {
          "text": "First t-SNE"
         }
        },
        "yaxis": {
         "anchor": "x",
         "domain": [
          0,
          1
         ],
         "title": {
          "text": "Second t-SNE"
         }
        }
       }
      }
     },
     "metadata": {},
     "output_type": "display_data"
    }
   ],
   "source": [
    "fig = px.scatter(x=X_tsne[:, 0], y=X_tsne[:, 1], text=embedding_words.language[:transform_count].values)\n",
    "fig.update_layout(\n",
    "    title=\"t-SNE visualization of language embeddings\",\n",
    "    xaxis_title=\"First t-SNE\",\n",
    "    yaxis_title=\"Second t-SNE\",\n",
    "    height=800,\n",
    "    width=800\n",
    ")\n",
    "fig.show()\n",
    "\n"
   ]
  }
 ],
 "metadata": {
  "kernelspec": {
   "display_name": "conda-forge",
   "language": "python",
   "name": "conda-forge"
  },
  "language_info": {
   "codemirror_mode": {
    "name": "ipython",
    "version": 3
   },
   "file_extension": ".py",
   "mimetype": "text/x-python",
   "name": "python",
   "nbconvert_exporter": "python",
   "pygments_lexer": "ipython3",
   "version": "3.9.7"
  },
  "orig_nbformat": 4
 },
 "nbformat": 4,
 "nbformat_minor": 2
}
