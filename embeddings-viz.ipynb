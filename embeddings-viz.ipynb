{
 "cells": [
  {
   "cell_type": "code",
   "execution_count": 46,
   "metadata": {},
   "outputs": [
    {
     "data": {
      "text/html": [
       "<div>\n",
       "<style scoped>\n",
       "    .dataframe tbody tr th:only-of-type {\n",
       "        vertical-align: middle;\n",
       "    }\n",
       "\n",
       "    .dataframe tbody tr th {\n",
       "        vertical-align: top;\n",
       "    }\n",
       "\n",
       "    .dataframe thead th {\n",
       "        text-align: right;\n",
       "    }\n",
       "</style>\n",
       "<table border=\"1\" class=\"dataframe\">\n",
       "  <thead>\n",
       "    <tr style=\"text-align: right;\">\n",
       "      <th></th>\n",
       "      <th>language</th>\n",
       "      <th>word_AI</th>\n",
       "    </tr>\n",
       "  </thead>\n",
       "  <tbody>\n",
       "    <tr>\n",
       "      <th>0</th>\n",
       "      <td>Arabic</td>\n",
       "      <td>الذكاء الصناعي</td>\n",
       "    </tr>\n",
       "    <tr>\n",
       "      <th>1</th>\n",
       "      <td>Bengali</td>\n",
       "      <td>কৃত্রিম বুদ্ধিমত্তা</td>\n",
       "    </tr>\n",
       "    <tr>\n",
       "      <th>2</th>\n",
       "      <td>Chinese</td>\n",
       "      <td>人工智能</td>\n",
       "    </tr>\n",
       "    <tr>\n",
       "      <th>3</th>\n",
       "      <td>Dutch</td>\n",
       "      <td>Kunstmatige intelligentie</td>\n",
       "    </tr>\n",
       "    <tr>\n",
       "      <th>4</th>\n",
       "      <td>French</td>\n",
       "      <td>Intelligence artificielle</td>\n",
       "    </tr>\n",
       "    <tr>\n",
       "      <th>5</th>\n",
       "      <td>German</td>\n",
       "      <td>Künstliche Intelligenz</td>\n",
       "    </tr>\n",
       "    <tr>\n",
       "      <th>6</th>\n",
       "      <td>Greek</td>\n",
       "      <td>Τεχνητή νοημοσύνη</td>\n",
       "    </tr>\n",
       "    <tr>\n",
       "      <th>7</th>\n",
       "      <td>Hebrew</td>\n",
       "      <td>בינה מלאכותית</td>\n",
       "    </tr>\n",
       "    <tr>\n",
       "      <th>8</th>\n",
       "      <td>Hindi</td>\n",
       "      <td>कृत्रिम बुद्धि</td>\n",
       "    </tr>\n",
       "    <tr>\n",
       "      <th>9</th>\n",
       "      <td>Indonesian</td>\n",
       "      <td>Kecerdasan Buatan</td>\n",
       "    </tr>\n",
       "    <tr>\n",
       "      <th>10</th>\n",
       "      <td>Italian</td>\n",
       "      <td>Intelligenza artificiale</td>\n",
       "    </tr>\n",
       "    <tr>\n",
       "      <th>11</th>\n",
       "      <td>Japanese</td>\n",
       "      <td>人工知能</td>\n",
       "    </tr>\n",
       "    <tr>\n",
       "      <th>12</th>\n",
       "      <td>Korean</td>\n",
       "      <td>인공 지능</td>\n",
       "    </tr>\n",
       "    <tr>\n",
       "      <th>13</th>\n",
       "      <td>Persian</td>\n",
       "      <td>هوش مصنوعی</td>\n",
       "    </tr>\n",
       "    <tr>\n",
       "      <th>14</th>\n",
       "      <td>Polish</td>\n",
       "      <td>Sztuczna inteligencja</td>\n",
       "    </tr>\n",
       "    <tr>\n",
       "      <th>15</th>\n",
       "      <td>Portuguese</td>\n",
       "      <td>Inteligência artificial</td>\n",
       "    </tr>\n",
       "    <tr>\n",
       "      <th>16</th>\n",
       "      <td>Russian</td>\n",
       "      <td>Искусственный интеллект</td>\n",
       "    </tr>\n",
       "    <tr>\n",
       "      <th>17</th>\n",
       "      <td>Spanish</td>\n",
       "      <td>Inteligencia artificial</td>\n",
       "    </tr>\n",
       "    <tr>\n",
       "      <th>18</th>\n",
       "      <td>Swahili</td>\n",
       "      <td>Akili bandia</td>\n",
       "    </tr>\n",
       "    <tr>\n",
       "      <th>19</th>\n",
       "      <td>Turkish</td>\n",
       "      <td>Yapay zeka</td>\n",
       "    </tr>\n",
       "  </tbody>\n",
       "</table>\n",
       "</div>"
      ],
      "text/plain": [
       "      language                    word_AI\n",
       "0       Arabic             الذكاء الصناعي\n",
       "1      Bengali        কৃত্রিম বুদ্ধিমত্তা\n",
       "2      Chinese                       人工智能\n",
       "3        Dutch  Kunstmatige intelligentie\n",
       "4       French  Intelligence artificielle\n",
       "5       German     Künstliche Intelligenz\n",
       "6        Greek          Τεχνητή νοημοσύνη\n",
       "7       Hebrew              בינה מלאכותית\n",
       "8        Hindi             कृत्रिम बुद्धि\n",
       "9   Indonesian          Kecerdasan Buatan\n",
       "10     Italian   Intelligenza artificiale\n",
       "11    Japanese                       人工知能\n",
       "12      Korean                      인공 지능\n",
       "13     Persian                 هوش مصنوعی\n",
       "14      Polish      Sztuczna inteligencja\n",
       "15  Portuguese    Inteligência artificial\n",
       "16     Russian    Искусственный интеллект\n",
       "17     Spanish    Inteligencia artificial\n",
       "18     Swahili               Akili bandia\n",
       "19     Turkish                 Yapay zeka"
      ]
     },
     "execution_count": 46,
     "metadata": {},
     "output_type": "execute_result"
    }
   ],
   "source": [
    "import os\n",
    "from pathlib import Path\n",
    "\n",
    "import matplotlib as mpl\n",
    "import matplotlib.pyplot as plt\n",
    "import numpy as np\n",
    "import openai\n",
    "import pandas as pd\n",
    "\n",
    "from dotenv import load_dotenv\n",
    "\n",
    "load_dotenv()\n",
    "\n",
    "openai.api_key = os.getenv('OPENAI_API_KEY')\n",
    "openai.organization = os.getenv('ORGANIZATION_ID')\n",
    "\n",
    "embedding_words = pd.DataFrame([['Arabic', 'الذكاء الصناعي'],\n",
    " ['Bengali', 'কৃত্রিম বুদ্ধিমত্তা'],\n",
    " ['Chinese', '人工智能'],\n",
    " ['Dutch', 'Kunstmatige intelligentie'],\n",
    " ['French', 'Intelligence artificielle'],\n",
    " ['German', 'Künstliche Intelligenz'],\n",
    " ['Greek', 'Τεχνητή νοημοσύνη'],\n",
    " ['Hebrew', 'בינה מלאכותית'],\n",
    " ['Hindi', 'कृत्रिम बुद्धि'],\n",
    " ['Indonesian', 'Kecerdasan Buatan'],\n",
    " ['Italian', 'Intelligenza artificiale'],\n",
    " ['Japanese', '人工知能'],\n",
    " ['Korean', '인공 지능'],\n",
    " ['Persian', 'هوش مصنوعی'],\n",
    " ['Polish', 'Sztuczna inteligencja'],\n",
    " ['Portuguese', 'Inteligência artificial'],\n",
    " ['Russian', 'Искусственный интеллект'],\n",
    " ['Spanish', 'Inteligencia artificial'],\n",
    " ['Swahili', 'Akili bandia'],\n",
    " ['Turkish', 'Yapay zeka']], columns=['language', 'word_AI'])\n",
    "\n",
    "embedding_words"
   ]
  },
  {
   "cell_type": "code",
   "execution_count": 55,
   "metadata": {},
   "outputs": [],
   "source": [
    "#embedding_data = openai.Embedding.create(input=list(embedding_words.word_AI), model=\"text-embedding-ada-002\")['data']\n",
    "#embeddings = [e[\"embedding\"] for e in embedding_data]\n",
    "embeddings = np.loadtxt('./artificial-intelligence.emb')"
   ]
  },
  {
   "cell_type": "code",
   "execution_count": 58,
   "metadata": {},
   "outputs": [
    {
     "data": {
      "text/plain": [
       "<matplotlib.image.AxesImage at 0x1773ac4f0>"
      ]
     },
     "execution_count": 58,
     "metadata": {},
     "output_type": "execute_result"
    },
    {
     "data": {
      "image/png": "[encoded data removed]",
      "text/plain": [
       "<Figure size 432x288 with 1 Axes>"
      ]
     },
     "metadata": {
      "needs_background": "light"
     },
     "output_type": "display_data"
    }
   ],
   "source": [
    "plt.imshow(embeddings @ embeddings.T, cmap='PiYG')"
   ]
  },
  {
   "cell_type": "code",
   "execution_count": 62,
   "metadata": {},
   "outputs": [
    {
     "name": "stdout",
     "output_type": "stream",
     "text": [
      "[0.22174413 0.08972115 0.08639597 0.07537112 0.06948007 0.05834669\n",
      " 0.05270366 0.04663011 0.04618939 0.04202655]\n"
     ]
    },
    {
     "data": {
      "text/plain": [
       "array([[ 0.13260228,  0.20655751],\n",
       "       [ 0.34127284, -0.07395443],\n",
       "       [-0.15154366,  0.20176294],\n",
       "       [-0.19320456, -0.04182163],\n",
       "       [-0.20740724, -0.12906024],\n",
       "       [-0.20626516, -0.03519631],\n",
       "       [ 0.20794172,  0.02112056],\n",
       "       [ 0.29936496, -0.07973785],\n",
       "       [ 0.31929875, -0.09836983],\n",
       "       [ 0.11318835,  0.02223985],\n",
       "       [-0.21448114, -0.10227826],\n",
       "       [-0.10484066,  0.2528624 ],\n",
       "       [-0.09439079,  0.14551671],\n",
       "       [ 0.25652904,  0.17787826],\n",
       "       [-0.1417197 , -0.03510342],\n",
       "       [-0.24180485, -0.10473952],\n",
       "       [-0.07622373,  0.05682237],\n",
       "       [-0.24635006, -0.13403774],\n",
       "       [ 0.21475195, -0.24069819],\n",
       "       [-0.00671832, -0.00976318]])"
      ]
     },
     "execution_count": 62,
     "metadata": {},
     "output_type": "execute_result"
    }
   ],
   "source": [
    "from sklearn.decomposition import PCA\n",
    "\n",
    "pca = PCA(n_components=10)\n",
    "\n",
    "embedding_transform = pca.fit_transform(embeddings)\n",
    "\n",
    "print(pca.explained_variance_ratio_)\n",
    "\n",
    "embedding_transform[:, :2]\n"
   ]
  },
  {
   "cell_type": "code",
   "execution_count": 66,
   "metadata": {},
   "outputs": [
    {
     "ename": "SyntaxError",
     "evalue": "can't use starred expression here (893408199.py, line 1)",
     "output_type": "error",
     "traceback": [
      "\u001b[0;36m  Input \u001b[0;32mIn [66]\u001b[0;36m\u001b[0m\n\u001b[0;31m    *embedding_transform.T[[0,1]]\u001b[0m\n\u001b[0m    ^\u001b[0m\n\u001b[0;31mSyntaxError\u001b[0m\u001b[0;31m:\u001b[0m can't use starred expression here\n"
     ]
    }
   ],
   "source": []
  },
  {
   "cell_type": "code",
   "execution_count": 70,
   "metadata": {},
   "outputs": [
    {
     "data": {
      "image/png": "[encoded data removed]",
      "text/plain": [
       "<Figure size 576x576 with 1 Axes>"
      ]
     },
     "metadata": {
      "needs_background": "light"
     },
     "output_type": "display_data"
    }
   ],
   "source": [
    "fig, ax = plt.subplots(figsize=(8, 8))\n",
    "\n",
    "ax.scatter(*embedding_transform.T[[0,1]])\n",
    "\n",
    "for idx, name in enumerate(embedding_words.language):\n",
    "    ax.annotate(name, embedding_transform[idx][:2] + (0.002, 0.002))"
   ]
  }
 ],
 "metadata": {
  "kernelspec": {
   "display_name": "conda-forge",
   "language": "python",
   "name": "conda-forge"
  },
  "language_info": {
   "codemirror_mode": {
    "name": "ipython",
    "version": 3
   },
   "file_extension": ".py",
   "mimetype": "text/x-python",
   "name": "python",
   "nbconvert_exporter": "python",
   "pygments_lexer": "ipython3",
   "version": "3.9.7"
  },
  "orig_nbformat": 4
 },
 "nbformat": 4,
 "nbformat_minor": 2
}
