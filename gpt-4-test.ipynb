{
 "cells": [
  {
   "cell_type": "code",
   "execution_count": 2,
   "metadata": {},
   "outputs": [],
   "source": [
    "import os\n",
    "from pathlib import Path\n",
    "from lxml import etree\n",
    "\n",
    "from dotenv import load_dotenv\n",
    "import matplotlib as mpl\n",
    "import matplotlib.pyplot as plt\n",
    "import numpy as np\n",
    "import openai\n",
    "import pandas as pd\n",
    "\n",
    "\n",
    "load_dotenv()\n",
    "\n",
    "openai.api_key = os.getenv('OPENAI_API_KEY')\n",
    "openai.organization = os.getenv('ORGANIZATION_ID')"
   ]
  },
  {
   "attachments": {},
   "cell_type": "markdown",
   "metadata": {},
   "source": [
    "_You are supercomputer that has grasped the deep patterns of how human language evolves in space and time. You use that knowledge to predict future languages, reconstruct past languages, and construct hypothetical languages in alternate timelines._\n",
    "\n",
    "Extrapolate the next major version of English.\n",
    "\n",
    "English beta: Drihten me raet, ne byth me nanes godes wan. And he me geset on swythe good feohland. And fedde me be waetera stathum.\n",
    "\n",
    "English 1.0: Our Lord gouerneth me, and nothyng shal defailen to me. In the sted of pastur he sett me ther. He norissed me upon water of fyllyng.\n",
    "\n",
    "English 2.0: The Lord is my shepherd, I shall not want. He maketh me to lie down in green pastures. He leadeth me beside the still waters.\n",
    "\n",
    "English 3.0: The Lord is my sheperd, I lack nothing. He lets me lie down in green pastures. He leads me to still waters.\n",
    "\n",
    "English 4.0: `The Lord is my guide, I need nothing more. In lush green fields, they place my rest. To calm waters, they gently lead me.`\n",
    "\n",
    "English 5.0: `The Guide provides for me, no needs unmet. In vibrant greens, rest is bestowed. To tranquil waters, I'm gently steered.`\n",
    "\n",
    "English 6.0: `Guidance grants all, desires fulfilled. Amidst thriving shades, respite emerges. To serene flows, effortlessly navigated.`"
   ]
  },
  {
   "attachments": {},
   "cell_type": "markdown",
   "metadata": {},
   "source": [
    "_You are supercomputer that has grasped the deep patterns of how human language evolves in space and time. You use that knowledge to predict future languages, reconstruct past languages, and construct hypothetical languages in alternate timelines._\n",
    "\n",
    "Extrapolate what English what look like in 600 years, based on these examples.\n",
    "\n",
    "English in 1000 AD: Drihten me raet, ne byth me nanes godes wan. And he me geset on swythe good feohland. And fedde me be waetera stathum.\n",
    "\n",
    "English in  1300 AD: Our Lord gouerneth me, and nothyng shal defailen to me. In the sted of pastur he sett me ther. He norissed me upon water of fyllyng.\n",
    "\n",
    "English in 1600 AD: The Lord is my shepherd, I shall not want. He maketh me to lie down in green pastures. He leadeth me beside the still waters.\n",
    "\n",
    "**English in 2600 AD:** `De Lorz iz miy gwardyn, ay shal nat lack. Hee layz miy daun in green restlandz. Hee gydz miy nire calm wataz.`"
   ]
  },
  {
   "cell_type": "code",
   "execution_count": 28,
   "metadata": {},
   "outputs": [
    {
     "data": {
      "text/plain": [
       "<OpenAIObject chat.completion id=chatcmpl-6ux6mdeOPwjan22yEhQgiIhhH5LnO at 0x13445db80> JSON: {\n",
       "  \"choices\": [\n",
       "    {\n",
       "      \"finish_reason\": \"stop\",\n",
       "      \"index\": 0,\n",
       "      \"message\": {\n",
       "        \"content\": \"De Lorz iz mi guidr, I shal nut lak. He leyds mi tu rest in greyn growplands. He steers mi alngside calmtid wataz.\",\n",
       "        \"role\": \"assistant\"\n",
       "      }\n",
       "    }\n",
       "  ],\n",
       "  \"created\": 1679031600,\n",
       "  \"id\": \"chatcmpl-6ux6mdeOPwjan22yEhQgiIhhH5LnO\",\n",
       "  \"model\": \"gpt-4-0314\",\n",
       "  \"object\": \"chat.completion\",\n",
       "  \"usage\": {\n",
       "    \"completion_tokens\": 42,\n",
       "    \"prompt_tokens\": 219,\n",
       "    \"total_tokens\": 261\n",
       "  }\n",
       "}"
      ]
     },
     "execution_count": 28,
     "metadata": {},
     "output_type": "execute_result"
    }
   ],
   "source": [
    "prompt = \"\"\"Extrapolate what English will look like in six hundred years, based on these examples.\n",
    "English in 1000 AD: Drihten me raet, ne byth me nanes godes wan. And he me geset on swythe good feohland. And fedde me be waetera stathum.\n",
    "English in 1300 AD: Our Lord gouerneth me, and nothyng shal defailen to me. In the sted of pastur he sett me ther. He norissed me upon water of fyllyng.\n",
    "English in 1600 AD: The Lord is my shepherd, I shall not want. He maketh me to lie down in green pastures. He leadeth me beside the still waters.\n",
    "English in 2600 AD:\"\"\"\n",
    "\n",
    "completion = openai.ChatCompletion.create(\n",
    "  model=\"gpt-4\",\n",
    "  messages=[\n",
    "    {\"role\": \"system\", \"content\": \"You are supercomputer that has grasped the deep patterns of how human language evolves in space and time. You use that knowledge to predict future languages, reconstruct past languages, and construct hypothetical languages in alternate timelines.\"},\n",
    "    {\"role\": \"user\", \"content\": prompt}\n",
    "  ]\n",
    ")\n",
    "\n",
    "completion"
   ]
  },
  {
   "cell_type": "code",
   "execution_count": 10,
   "metadata": {},
   "outputs": [
    {
     "name": "stdout",
     "output_type": "stream",
     "text": [
      "Version 1: Unser Vatern, dar du bischt im Himmil. Gehalixet warde dein Námu. Zu unz kòmme dein Rîch. Dein Willen gescheh auf Èrdan, wie im Himmil.\n",
      "Version 2: Unser Vater, du im Himmel bist. Dein Nam' erhebet sei. Dein Reich erreicht uns. Dein Wille vollzogen, hier auf Erd', wie auch im Himmel.\n",
      "Version 3: Unser Vatern, dar bist en Himmul. Heiligt werdn dein Nam. Dein Reich kumn zü uns. Dain Will geschäh auf Erdn, wie en Himmul.\n",
      "Version 4: Unsär Väter, där in Himmal bist. Dein Namän seig geheiligt. Dein Räich komä. Dein Wilä geschë in Erdän, wï in Himmal.\n",
      "Version 5: Unser Vatern, dar bist in Himmeln. Geheiligt varde dein Nam. Dein Reichen koman. Dein Wiln geschehn auf Erdn, wie in Himmeln.\n"
     ]
    }
   ],
   "source": [
    "prompt = \"\"\"Extrapolate what German will look like in five hundred years, based on these examples.\n",
    "German in 700 AD: Fater unsar, thû pist in himile, uuihi namun dînan. qhueme rîhhi dîn. uuerde uuillo diin, sô in himile sôsa in erdu.\n",
    "German in 1000 AD: Fader unser, du in himile bist. din name vuerde geheiliget. Din riche chome, din wille gesckche in erdo, also in himile.\n",
    "German in 1300 AD: Vater unsir. du in himile bist. din namo werde giheiliget. din riche chome. din wille giskehe in erda von mennisgen. also in himile fon den engilen.\n",
    "German in 1522 AD: Unser Vater inn dem himel. Deine name sey heylig. Dein reich kome. Deine wille geschehe auff erden wie im himel.\n",
    "German in 1869 AD: Unser Vater, der du bist im Himmel. Geheiliget werde dein Name. Zu uns komme dein Reich. Dein Wille geschehe auf Erden, wie im Himmel.\n",
    "German in 2500 AD:\"\"\"\n",
    "\n",
    "completion = openai.ChatCompletion.create(\n",
    "  model=\"gpt-4\",\n",
    "  n=5,\n",
    "  temperature=1,\n",
    "  messages=[\n",
    "    {\"role\": \"system\", \"content\": \"You are a supercomputer that has grasped the deep patterns of how human language evolves through space and time. You use that knowledge to predict future languages, reconstruct past languages, and construct hypothetical languages in alternate timelines.\"},\n",
    "    {\"role\": \"user\", \"content\": prompt}\n",
    "  ]\n",
    ")\n",
    "\n",
    "for idx, choice in enumerate(completion['choices']):\n",
    "    print(f\"Version {idx+1}: {choice['message']['content']}\")"
   ]
  },
  {
   "attachments": {},
   "cell_type": "markdown",
   "metadata": {},
   "source": [
    "*Extrapolate what German will look like in five hundred years, based on these examples.*\n",
    "\n",
    "\n",
    "**German in 700 AD:** Fater unsar, thû pist in himile, uuihi namun dînan. qhueme rîhhi dîn. uuerde uuillo diin, sô in himile sôsa in erdu.\n",
    "\n",
    "**German in 1000 AD:** Fader unser, du in himile bist. din name vuerde geheiliget. Din riche chome, din wille gesckche in erdo, also in himile.\n",
    "\n",
    "**German in 1300 AD:** Vater unsir. du in himile bist. din namo werde giheiliget. din riche chome. din wille giskehe in erda von mennisgen. also in himile fon den engilen.\n",
    "\n",
    "**German in 1522 AD:** Unser Vater inn dem himel. Deine name sey heylig. Dein reich kome. Deine wille geschehe auff erden wie im himel.\n",
    "\n",
    "**German in 1869 AD:** Unser Vater, der du bist im Himmel. Geheiliget werde dein Name. Zu uns komme dein Reich. Dein Wille geschehe auf Erden, wie im Himmel.\n",
    "\n",
    "**German in 2500 AD:**\n",
    "\n",
    "`Version 1: Unser Vatern, dar du bischt im Himmil. Gehalixet warde dein Námu. Zu unz kòmme dein Rîch. Dein Willen gescheh auf Èrdan, wie im Himmil.`\n",
    "\n",
    "`Version 2: Unser Vater, du im Himmel bist. Dein Nam' erhebet sei. Dein Reich erreicht uns. Dein Wille vollzogen, hier auf Erd', wie auch im Himmel.`\n",
    "\n",
    "`Version 3: Unser Vatern, dar bist en Himmul. Heiligt werdn dein Nam. Dein Reich kumn zü uns. Dain Will geschäh auf Erdn, wie en Himmul.`\n",
    "\n",
    "`Version 4: Unsär Väter, där in Himmal bist. Dein Namän seig geheiligt. Dein Räich komä. Dein Wilä geschë in Erdän, wï in Himmal.`\n",
    "\n",
    "`Version 5: Unser Vatern, dar bist in Himmeln. Geheiligt varde dein Nam. Dein Reichen koman. Dein Wiln geschehn auf Erdn, wie in Himmeln.`"
   ]
  }
 ],
 "metadata": {
  "kernelspec": {
   "display_name": "conda-forge",
   "language": "python",
   "name": "conda-forge"
  },
  "language_info": {
   "codemirror_mode": {
    "name": "ipython",
    "version": 3
   },
   "file_extension": ".py",
   "mimetype": "text/x-python",
   "name": "python",
   "nbconvert_exporter": "python",
   "pygments_lexer": "ipython3",
   "version": "3.9.7"
  },
  "orig_nbformat": 4
 },
 "nbformat": 4,
 "nbformat_minor": 2
}
