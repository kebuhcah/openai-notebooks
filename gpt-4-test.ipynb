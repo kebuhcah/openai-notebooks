{
 "cells": [
  {
   "cell_type": "code",
   "execution_count": 11,
   "metadata": {},
   "outputs": [],
   "source": [
    "import os\n",
    "from pathlib import Path\n",
    "from lxml import etree\n",
    "\n",
    "from dotenv import load_dotenv\n",
    "import matplotlib as mpl\n",
    "import matplotlib.pyplot as plt\n",
    "import numpy as np\n",
    "import openai\n",
    "import pandas as pd\n",
    "\n",
    "\n",
    "load_dotenv()\n",
    "\n",
    "openai.api_key = os.getenv('OPENAI_API_KEY')\n",
    "openai.organization = os.getenv('ORGANIZATION_ID')"
   ]
  },
  {
   "cell_type": "code",
   "execution_count": 13,
   "metadata": {},
   "outputs": [],
   "source": [
    "completion = openai.ChatCompletion.create(\n",
    "  model=\"gpt-4\",\n",
    "  messages=[\n",
    "    {\"role\": \"user\", \"content\": \"Hello, am I speaking to GPT-4?\"}\n",
    "  ]\n",
    ")"
   ]
  },
  {
   "cell_type": "code",
   "execution_count": 14,
   "metadata": {},
   "outputs": [
    {
     "data": {
      "text/plain": [
       "<OpenAIObject chat.completion id=chatcmpl-6uwYTdE5tBtF56YmOZQmX0HQ5MJKS at 0x120df99f0> JSON: {\n",
       "  \"choices\": [\n",
       "    {\n",
       "      \"finish_reason\": \"stop\",\n",
       "      \"index\": 0,\n",
       "      \"message\": {\n",
       "        \"content\": \"Hello! I am an AI language model, but I am not specifically GPT-4. I am better classified as an OpenAI language model. How can I assist you today?\",\n",
       "        \"role\": \"assistant\"\n",
       "      }\n",
       "    }\n",
       "  ],\n",
       "  \"created\": 1679029473,\n",
       "  \"id\": \"chatcmpl-6uwYTdE5tBtF56YmOZQmX0HQ5MJKS\",\n",
       "  \"model\": \"gpt-4-0314\",\n",
       "  \"object\": \"chat.completion\",\n",
       "  \"usage\": {\n",
       "    \"completion_tokens\": 38,\n",
       "    \"prompt_tokens\": 17,\n",
       "    \"total_tokens\": 55\n",
       "  }\n",
       "}"
      ]
     },
     "execution_count": 14,
     "metadata": {},
     "output_type": "execute_result"
    }
   ],
   "source": [
    "completion"
   ]
  },
  {
   "attachments": {},
   "cell_type": "markdown",
   "metadata": {},
   "source": [
    "_You are supercomputer that has grasped the deep patterns of how human language evolves in space and time. You use that knowledge to predict future languages, reconstruct past languages, and construct hypothetical languages in alternate timelines._\n",
    "\n",
    "Extrapolate the next major version of English.\n",
    "\n",
    "English beta: Drihten me raet, ne byth me nanes godes wan. And he me geset on swythe good feohland. And fedde me be waetera stathum.\n",
    "\n",
    "English 1.0: Our Lord gouerneth me, and nothyng shal defailen to me. In the sted of pastur he sett me ther. He norissed me upon water of fyllyng.\n",
    "\n",
    "English 2.0: The Lord is my shepherd, I shall not want. He maketh me to lie down in green pastures. He leadeth me beside the still waters.\n",
    "\n",
    "English 3.0: The Lord is my sheperd, I lack nothing. He lets me lie down in green pastures. He leads me to still waters.\n",
    "\n",
    "English 4.0: `The Lord is my guide, I need nothing more. In lush green fields, they place my rest. To calm waters, they gently lead me.`\n",
    "\n",
    "English 5.0: `The Guide provides for me, no needs unmet. In vibrant greens, rest is bestowed. To tranquil waters, I'm gently steered.`\n",
    "\n",
    "English 6.0: `Guidance grants all, desires fulfilled. Amidst thriving shades, respite emerges. To serene flows, effortlessly navigated.`"
   ]
  },
  {
   "attachments": {},
   "cell_type": "markdown",
   "metadata": {},
   "source": [
    "_You are supercomputer that has grasped the deep patterns of how human language evolves in space and time. You use that knowledge to predict future languages, reconstruct past languages, and construct hypothetical languages in alternate timelines._\n",
    "\n",
    "Extrapolate what English what look like in 600 years, based on these examples.\n",
    "\n",
    "English in 1000 AD: Drihten me raet, ne byth me nanes godes wan. And he me geset on swythe good feohland. And fedde me be waetera stathum.\n",
    "\n",
    "English in  1300 AD: Our Lord gouerneth me, and nothyng shal defailen to me. In the sted of pastur he sett me ther. He norissed me upon water of fyllyng.\n",
    "\n",
    "English in 1600 AD: The Lord is my shepherd, I shall not want. He maketh me to lie down in green pastures. He leadeth me beside the still waters.\n",
    "\n",
    "**English in 2600 AD:** `De Lorz iz miy gwardyn, ay shal nat lack. Hee layz miy daun in green restlandz. Hee gydz miy nire calm wataz.`"
   ]
  },
  {
   "cell_type": "code",
   "execution_count": 28,
   "metadata": {},
   "outputs": [
    {
     "data": {
      "text/plain": [
       "<OpenAIObject chat.completion id=chatcmpl-6ux6mdeOPwjan22yEhQgiIhhH5LnO at 0x13445db80> JSON: {\n",
       "  \"choices\": [\n",
       "    {\n",
       "      \"finish_reason\": \"stop\",\n",
       "      \"index\": 0,\n",
       "      \"message\": {\n",
       "        \"content\": \"De Lorz iz mi guidr, I shal nut lak. He leyds mi tu rest in greyn growplands. He steers mi alngside calmtid wataz.\",\n",
       "        \"role\": \"assistant\"\n",
       "      }\n",
       "    }\n",
       "  ],\n",
       "  \"created\": 1679031600,\n",
       "  \"id\": \"chatcmpl-6ux6mdeOPwjan22yEhQgiIhhH5LnO\",\n",
       "  \"model\": \"gpt-4-0314\",\n",
       "  \"object\": \"chat.completion\",\n",
       "  \"usage\": {\n",
       "    \"completion_tokens\": 42,\n",
       "    \"prompt_tokens\": 219,\n",
       "    \"total_tokens\": 261\n",
       "  }\n",
       "}"
      ]
     },
     "execution_count": 28,
     "metadata": {},
     "output_type": "execute_result"
    }
   ],
   "source": [
    "prompt = \"\"\"Extrapolate what English will look like in six hundred years, based on these examples.\n",
    "English in 1000 AD: Drihten me raet, ne byth me nanes godes wan. And he me geset on swythe good feohland. And fedde me be waetera stathum.\n",
    "English in  1300 AD: Our Lord gouerneth me, and nothyng shal defailen to me. In the sted of pastur he sett me ther. He norissed me upon water of fyllyng.\n",
    "English in 1600 AD: The Lord is my shepherd, I shall not want. He maketh me to lie down in green pastures. He leadeth me beside the still waters.\n",
    "English in 2600 AD:\"\"\"\n",
    "\n",
    "completion = openai.ChatCompletion.create(\n",
    "  model=\"gpt-4\",\n",
    "  messages=[\n",
    "    {\"role\": \"system\", \"content\": \"You are supercomputer that has grasped the deep patterns of how human language evolves in space and time. You use that knowledge to predict future languages, reconstruct past languages, and construct hypothetical languages in alternate timelines.\"},\n",
    "    {\"role\": \"user\", \"content\": prompt}\n",
    "  ]\n",
    ")\n",
    "\n",
    "completion"
   ]
  }
 ],
 "metadata": {
  "kernelspec": {
   "display_name": "conda-forge",
   "language": "python",
   "name": "conda-forge"
  },
  "language_info": {
   "codemirror_mode": {
    "name": "ipython",
    "version": 3
   },
   "file_extension": ".py",
   "mimetype": "text/x-python",
   "name": "python",
   "nbconvert_exporter": "python",
   "pygments_lexer": "ipython3",
   "version": "3.9.7"
  },
  "orig_nbformat": 4
 },
 "nbformat": 4,
 "nbformat_minor": 2
}
