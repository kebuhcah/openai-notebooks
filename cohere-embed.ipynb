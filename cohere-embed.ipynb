{
 "cells": [
  {
   "cell_type": "code",
   "execution_count": 27,
   "metadata": {},
   "outputs": [
    {
     "data": {
      "text/plain": [
       "True"
      ]
     },
     "execution_count": 27,
     "metadata": {},
     "output_type": "execute_result"
    }
   ],
   "source": [
    "import cohere\n",
    "import os\n",
    "from dotenv import load_dotenv\n",
    "\n",
    "import pandas as pd\n",
    "import numpy as np\n",
    "import matplotlib.pyplot as plt\n",
    "\n",
    "load_dotenv()"
   ]
  },
  {
   "cell_type": "code",
   "execution_count": 12,
   "metadata": {},
   "outputs": [],
   "source": [
    "co = cohere.Client(os.getenv('COHERE_API_KEY'))\n"
   ]
  },
  {
   "cell_type": "code",
   "execution_count": 17,
   "metadata": {},
   "outputs": [
    {
     "data": {
      "text/plain": [
       "['الذكاء الصناعي',\n",
       " 'কৃত্রিম বুদ্ধিমত্তা',\n",
       " '人工智能',\n",
       " 'Kunstmatige intelligentie',\n",
       " 'Intelligence artificielle',\n",
       " 'Künstliche Intelligenz',\n",
       " 'Τεχνητή νοημοσύνη',\n",
       " 'בינה מלאכותית',\n",
       " 'कृत्रिम बुद्धि',\n",
       " 'Kecerdasan Buatan',\n",
       " 'Intelligenza artificiale',\n",
       " '人工知能',\n",
       " '인공 지능',\n",
       " 'هوش مصنوعی',\n",
       " 'Sztuczna inteligencja',\n",
       " 'Inteligência artificial',\n",
       " 'Искусственный интеллект',\n",
       " 'Inteligencia artificial',\n",
       " 'Akili bandia',\n",
       " 'Yapay zeka',\n",
       " 'Kunsmatige intelligensie',\n",
       " 'Intelegjenca artificiale',\n",
       " 'Արքայական բանականություն',\n",
       " 'Süni intellekt',\n",
       " 'Inteligentzia artifizial',\n",
       " 'Штучны інтэлект',\n",
       " 'Veštačka inteligencija',\n",
       " 'Изкуствен интелект',\n",
       " 'Umjetna inteligencija',\n",
       " 'Umělá inteligence',\n",
       " 'Kunstig intelligens',\n",
       " 'Tehisintellekt',\n",
       " 'Artipisyal na inteligensya',\n",
       " 'Tekoäly',\n",
       " 'ხელოვნური ჭკვიანდი',\n",
       " 'Mesterséges intelligencia',\n",
       " 'Gervigreind',\n",
       " 'Intleacht shaorga',\n",
       " 'Dirbtinis intelektas',\n",
       " 'Хиймэл оюун']"
      ]
     },
     "execution_count": 17,
     "metadata": {},
     "output_type": "execute_result"
    }
   ],
   "source": [
    "\n",
    "embedding_words = pd.DataFrame([['Arabic', 'الذكاء الصناعي'],\n",
    " ['Bengali', 'কৃত্রিম বুদ্ধিমত্তা'],\n",
    " ['Chinese', '人工智能'],\n",
    " ['Dutch', 'Kunstmatige intelligentie'],\n",
    " ['French', 'Intelligence artificielle'],\n",
    " ['German', 'Künstliche Intelligenz'],\n",
    " ['Greek', 'Τεχνητή νοημοσύνη'],\n",
    " ['Hebrew', 'בינה מלאכותית'],\n",
    " ['Hindi', 'कृत्रिम बुद्धि'],\n",
    " ['Indonesian', 'Kecerdasan Buatan'],\n",
    " ['Italian', 'Intelligenza artificiale'],\n",
    " ['Japanese', '人工知能'],\n",
    " ['Korean', '인공 지능'],\n",
    " ['Persian', 'هوش مصنوعی'],\n",
    " ['Polish', 'Sztuczna inteligencja'],\n",
    " ['Portuguese', 'Inteligência artificial'],\n",
    " ['Russian', 'Искусственный интеллект'],\n",
    " ['Spanish', 'Inteligencia artificial'],\n",
    " ['Swahili', 'Akili bandia'],\n",
    " ['Turkish', 'Yapay zeka'],\n",
    " ['Afrikaans', 'Kunsmatige intelligensie'],\n",
    " ['Albanian', 'Intelegjenca artificiale'],\n",
    " ['Armenian', 'Արքայական բանականություն'],\n",
    " ['Azerbaijani', 'Süni intellekt'],\n",
    " ['Basque', 'Inteligentzia artifizial'],\n",
    " ['Belarusian', 'Штучны інтэлект'],\n",
    " ['Bosnian', 'Veštačka inteligencija'],\n",
    " ['Bulgarian', 'Изкуствен интелект'],\n",
    " ['Croatian', 'Umjetna inteligencija'],\n",
    " ['Czech', 'Umělá inteligence'],\n",
    " ['Danish', 'Kunstig intelligens'],\n",
    " ['Estonian', 'Tehisintellekt'],\n",
    " ['Filipino', 'Artipisyal na inteligensya'],\n",
    " ['Finnish', 'Tekoäly'],\n",
    " ['Georgian', 'ხელოვნური ჭკვიანდი'],\n",
    " ['Hungarian', 'Mesterséges intelligencia'],\n",
    " ['Icelandic', 'Gervigreind'],\n",
    " ['Irish', 'Intleacht shaorga'],\n",
    " ['Lithuanian', 'Dirbtinis intelektas'],\n",
    " ['Mongolian', 'Хиймэл оюун']], columns=['language', 'word_AI'])\n",
    "\n"
   ]
  },
  {
   "cell_type": "code",
   "execution_count": 18,
   "metadata": {},
   "outputs": [],
   "source": [
    "response = co.embed(\n",
    "    texts=embedding_words.word_AI.to_list(), model=\"embed-multilingual-v3.0\", input_type=\"clustering\"\n",
    ")"
   ]
  },
  {
   "cell_type": "code",
   "execution_count": 29,
   "metadata": {},
   "outputs": [],
   "source": [
    "embeddings = np.array(response.embeddings)"
   ]
  },
  {
   "cell_type": "code",
   "execution_count": 31,
   "metadata": {},
   "outputs": [
    {
     "data": {
      "text/plain": [
       "<matplotlib.image.AxesImage at 0x15749c5e0>"
      ]
     },
     "execution_count": 31,
     "metadata": {},
     "output_type": "execute_result"
    },
    {
     "data": {
      "image/png": "[encoded data removed]",
      "text/plain": [
       "<Figure size 432x288 with 1 Axes>"
      ]
     },
     "metadata": {
      "needs_background": "light"
     },
     "output_type": "display_data"
    }
   ],
   "source": [
    "plt.imshow(embeddings @ embeddings.T, cmap='PiYG')"
   ]
  }
 ],
 "metadata": {
  "kernelspec": {
   "display_name": "conda-forge",
   "language": "python",
   "name": "conda-forge"
  },
  "language_info": {
   "codemirror_mode": {
    "name": "ipython",
    "version": 3
   },
   "file_extension": ".py",
   "mimetype": "text/x-python",
   "name": "python",
   "nbconvert_exporter": "python",
   "pygments_lexer": "ipython3",
   "version": "3.9.7"
  }
 },
 "nbformat": 4,
 "nbformat_minor": 2
}
