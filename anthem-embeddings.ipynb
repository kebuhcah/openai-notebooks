{
 "cells": [
  {
   "cell_type": "code",
   "execution_count": 35,
   "id": "66f689d2",
   "metadata": {},
   "outputs": [],
   "source": [
    "import matplotlib as mpl\n",
    "import matplotlib.pyplot as plt\n",
    "import numpy as np\n",
    "import os\n",
    "import openai\n",
    "\n",
    "with open('.env') as f:\n",
    "    openai.api_key = f.read().strip().split('=')[1]\n",
    "    \n",
    "with open('data/USA.txt') as f:\n",
    "    usa_anthem = [line.strip() for line in f.readlines() if line.strip() != \"\"]"
   ]
  },
  {
   "cell_type": "code",
   "execution_count": 16,
   "id": "420be318",
   "metadata": {},
   "outputs": [],
   "source": [
    "response = openai.Embedding.create(\n",
    "    input=usa_anthem,\n",
    "    model=\"text-embedding-ada-002\"\n",
    ")"
   ]
  },
  {
   "cell_type": "code",
   "execution_count": 147,
   "id": "9e6e9245",
   "metadata": {
    "scrolled": true
   },
   "outputs": [],
   "source": [
    "usa_array = np.asarray(usa_anthem)\n",
    "\n",
    "embeddings = np.asarray([e.embedding for e in response['data']])"
   ]
  },
  {
   "cell_type": "code",
   "execution_count": 148,
   "id": "100e7af9",
   "metadata": {},
   "outputs": [
    {
     "name": "stdout",
     "output_type": "stream",
     "text": [
      "O say can you see, by the dawn's early light,\n"
     ]
    }
   ],
   "source": [
    "print(usa_array[0])"
   ]
  },
  {
   "cell_type": "code",
   "execution_count": 151,
   "id": "20a84f08",
   "metadata": {},
   "outputs": [
    {
     "data": {
      "text/plain": [
       "array([\"O say can you see, by the dawn's early light,\",\n",
       "       \"Now it catches the gleam of the morning's first beam,\",\n",
       "       'On the shore dimly seen through the mists of the deep,',\n",
       "       \"What so proudly we hailed at the twilight's last gleaming,\",\n",
       "       'O say does that star-spangled banner yet wave',\n",
       "       'And the star-spangled banner in triumph doth wave,',\n",
       "       'In full glory reflected now shines in the stream:',\n",
       "       'Whose broad stripes and bright stars through the perilous fight,',\n",
       "       'Gave proof through the night that our flag was still there;'],\n",
       "      dtype='<U64')"
      ]
     },
     "execution_count": 151,
     "metadata": {},
     "output_type": "execute_result"
    }
   ],
   "source": [
    "# most similar lines to first line\n",
    "usa_array[(embeddings @ embeddings[0]).argsort()[:-10:-1]]"
   ]
  },
  {
   "cell_type": "code",
   "execution_count": 150,
   "id": "72241d46",
   "metadata": {},
   "outputs": [
    {
     "data": {
      "text/plain": [
       "array(['No refuge could save the hireling and slave',\n",
       "       'O thus be it ever, when freemen shall stand',\n",
       "       'From the terror of flight, or the gloom of the grave:',\n",
       "       \"Blest with vict'ry and peace, may the Heav'n rescued land\",\n",
       "       'Whose broad stripes and bright stars through the perilous fight,',\n",
       "       \"Between their loved homes and the war's desolation.\",\n",
       "       \"Where the foe's haughty host in dread silence reposes,\",\n",
       "       'And the star-spangled banner in triumph shall wave',\n",
       "       \"That the havoc of war and the battle's confusion,\"], dtype='<U64')"
      ]
     },
     "execution_count": 150,
     "metadata": {},
     "output_type": "execute_result"
    }
   ],
   "source": [
    "# most similar lines to line 19\n",
    "usa_array[(embeddings @ embeddings[20]).argsort()[:-10:-1]]"
   ]
  },
  {
   "cell_type": "code",
   "execution_count": 152,
   "id": "f9e1361e",
   "metadata": {},
   "outputs": [
    {
     "data": {
      "text/plain": [
       "array(['And the star-spangled banner in triumph doth wave,',\n",
       "       'And the star-spangled banner in triumph shall wave',\n",
       "       'Whose broad stripes and bright stars through the perilous fight,',\n",
       "       \"O'er the land of the free and the home of the brave.\",\n",
       "       \"O'er the land of the free and the home of the brave.\",\n",
       "       \"'Tis the star-spangled banner, O long may it wave\",\n",
       "       \"O'er the land of the free and the home of the brave!\",\n",
       "       \"What so proudly we hailed at the twilight's last gleaming,\",\n",
       "       \"O'er the land of the free and the home of the brave?\"],\n",
       "      dtype='<U64')"
      ]
     },
     "execution_count": 152,
     "metadata": {},
     "output_type": "execute_result"
    }
   ],
   "source": [
    "# most average lines\n",
    "usa_array[(embeddings @ embeddings.mean(axis=0)).argsort()[:-10:-1]]"
   ]
  },
  {
   "cell_type": "code",
   "execution_count": 173,
   "id": "d84f2168",
   "metadata": {},
   "outputs": [
    {
     "data": {
      "text/plain": [
       "array(['No refuge could save the hireling and slave',\n",
       "       \"Their blood has washed out their foul footsteps' pollution.\",\n",
       "       \"And this be our motto: 'In God is our trust.'\",\n",
       "       'As it fitfully blows, half conceals, half discloses?',\n",
       "       'A home and a country, should leave us no more?',\n",
       "       \"Between their loved homes and the war's desolation.\",\n",
       "       \"Now it catches the gleam of the morning's first beam,\",\n",
       "       'And where is that band who so vauntingly swore',\n",
       "       'Praise the Power that hath made and preserved us a nation!',\n",
       "       'Then conquer we must, when our cause it is just,'], dtype='<U64')"
      ]
     },
     "execution_count": 173,
     "metadata": {},
     "output_type": "execute_result"
    }
   ],
   "source": [
    "# least average lines\n",
    "usa_array[(embeddings @ embeddings.mean(axis=0)).argsort()[:10]]"
   ]
  },
  {
   "cell_type": "code",
   "execution_count": 182,
   "id": "06ed0643",
   "metadata": {},
   "outputs": [
    {
     "data": {
      "text/plain": [
       "<matplotlib.image.AxesImage at 0x169da0e20>"
      ]
     },
     "execution_count": 182,
     "metadata": {},
     "output_type": "execute_result"
    },
    {
     "data": {
      "image/png": "[encoded data removed]",
      "text/plain": [
       "<Figure size 432x288 with 1 Axes>"
      ]
     },
     "metadata": {
      "needs_background": "light"
     },
     "output_type": "display_data"
    }
   ],
   "source": [
    "plt.imshow((embeddings @ embeddings.T), cmap='PiYG')"
   ]
  },
  {
   "cell_type": "code",
   "execution_count": 193,
   "id": "dd553864",
   "metadata": {},
   "outputs": [
    {
     "data": {
      "text/plain": [
       "<matplotlib.image.AxesImage at 0x169e8b2e0>"
      ]
     },
     "execution_count": 193,
     "metadata": {},
     "output_type": "execute_result"
    },
    {
     "data": {
      "image/png": "[encoded data removed]",
      "text/plain": [
       "<Figure size 432x288 with 1 Axes>"
      ]
     },
     "metadata": {
      "needs_background": "light"
     },
     "output_type": "display_data"
    }
   ],
   "source": [
    "remove_diag = (embeddings @ embeddings.T) - (1 - (embeddings @ embeddings.T).mean()) * np.eye(32)\n",
    "plt.imshow(remove_diag, cmap='PiYG')"
   ]
  },
  {
   "cell_type": "code",
   "execution_count": 196,
   "id": "cb3db4be",
   "metadata": {},
   "outputs": [
    {
     "data": {
      "text/plain": [
       "<matplotlib.image.AxesImage at 0x169fb25e0>"
      ]
     },
     "execution_count": 196,
     "metadata": {},
     "output_type": "execute_result"
    },
    {
     "data": {
      "image/png": "[encoded data removed]",
      "text/plain": [
       "<Figure size 432x288 with 1 Axes>"
      ]
     },
     "metadata": {
      "needs_background": "light"
     },
     "output_type": "display_data"
    }
   ],
   "source": [
    "opening = remove_diag[:15]\n",
    "\n",
    "plt.imshow((opening @ opening.T), cmap='PiYG')"
   ]
  },
  {
   "cell_type": "code",
   "execution_count": 183,
   "id": "1d789cfc",
   "metadata": {},
   "outputs": [
    {
     "name": "stdout",
     "output_type": "stream",
     "text": [
      "(12, 18)\n"
     ]
    },
    {
     "data": {
      "text/plain": [
       "array([\"Now it catches the gleam of the morning's first beam,\",\n",
       "       'A home and a country, should leave us no more?'], dtype='<U64')"
      ]
     },
     "execution_count": 183,
     "metadata": {},
     "output_type": "execute_result"
    }
   ],
   "source": [
    "# least similar lines to each other\n",
    "\n",
    "min_pair = np.unravel_index((embeddings @ embeddings.T).argmin(), (32,32))\n",
    "print(min_pair)\n",
    "usa_array[list(min_pair)]"
   ]
  },
  {
   "cell_type": "code",
   "execution_count": 185,
   "id": "1cf61b3b",
   "metadata": {},
   "outputs": [
    {
     "data": {
      "text/plain": [
       "array(['A home and a country, should leave us no more?',\n",
       "       \"Their blood has washed out their foul footsteps' pollution.\",\n",
       "       'No refuge could save the hireling and slave'], dtype='<U64')"
      ]
     },
     "execution_count": 185,
     "metadata": {},
     "output_type": "execute_result"
    }
   ],
   "source": [
    "usa_array[18:21]"
   ]
  },
  {
   "cell_type": "code",
   "execution_count": 197,
   "id": "00e36df8",
   "metadata": {},
   "outputs": [
    {
     "data": {
      "text/plain": [
       "array([\"What is that which the breeze, o'er the towering steep,\",\n",
       "       'As it fitfully blows, half conceals, half discloses?',\n",
       "       \"Now it catches the gleam of the morning's first beam,\"],\n",
       "      dtype='<U64')"
      ]
     },
     "execution_count": 197,
     "metadata": {},
     "output_type": "execute_result"
    }
   ],
   "source": [
    "usa_array[10:13]"
   ]
  }
 ],
 "metadata": {
  "kernelspec": {
   "display_name": "Python 3 (ipykernel)",
   "language": "python",
   "name": "python3"
  },
  "language_info": {
   "codemirror_mode": {
    "name": "ipython",
    "version": 3
   },
   "file_extension": ".py",
   "mimetype": "text/x-python",
   "name": "python",
   "nbconvert_exporter": "python",
   "pygments_lexer": "ipython3",
   "version": "3.9.7"
  }
 },
 "nbformat": 4,
 "nbformat_minor": 5
}
