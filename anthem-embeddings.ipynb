{
 "cells": [
  {
   "cell_type": "code",
   "execution_count": 2,
   "id": "14072846",
   "metadata": {},
   "outputs": [],
   "source": [
    "import os\n",
    "from pathlib import Path\n",
    "\n",
    "import matplotlib as mpl\n",
    "import matplotlib.pyplot as plt\n",
    "import numpy as np\n",
    "import openai\n",
    "import pandas as pd\n",
    "\n",
    "from sklearn.cluster import KMeans\n",
    "from sklearn.manifold import TSNE\n",
    "\n",
    "\n",
    "with open('.env') as f:\n",
    "    openai.api_key = f.read().strip().split('=')[1]\n",
    "\n",
    "anthems_dir = Path('data/anthems')\n",
    "file_paths = {}\n",
    "lyrics = {}\n",
    "embeddings = {}\n",
    "\n",
    "\n",
    "for g in anthems_dir.glob('*.txt'):\n",
    "    stem = g.stem\n",
    "    file_paths[stem] = g\n",
    "    \n",
    "    with open(g) as f:\n",
    "        lyrics[stem] = np.asarray([line.strip() for line in f.readlines() if line.strip() != \"\"])\n",
    "\n",
    "    emb_path = g.with_suffix('.emb')\n",
    "    if os.path.isfile(emb_path):\n",
    "        embeddings[stem] = np.loadtxt(emb_path)\n",
    "    else:\n",
    "        response = openai.Embedding.create(input=list(lyrics[stem]), model=\"text-embedding-ada-002\")\n",
    "        embeddings[stem] = np.asarray([e.embedding for e in response['data']])\n",
    "        np.savetxt(emb_path, embeddings[stem])"
   ]
  },
  {
   "cell_type": "code",
   "execution_count": 47,
   "id": "175012b0",
   "metadata": {},
   "outputs": [],
   "source": [
    "\n",
    "\n"
   ]
  },
  {
   "cell_type": "code",
   "execution_count": 66,
   "id": "b4a2856e",
   "metadata": {
    "scrolled": true
   },
   "outputs": [],
   "source": [
    "def correlate(e1, e2=None):\n",
    "    if e2 is None:\n",
    "        e2 = e1\n",
    "    return e1 @ e2.T\n",
    "\n",
    "def correlate_minus_diag(e1):\n",
    "    correlation = e1 @ e1.T\n",
    "    return correlation - (1 - correlation.mean()) * np.eye(correlation.shape[0])"
   ]
  },
  {
   "cell_type": "code",
   "execution_count": 56,
   "id": "628614b9",
   "metadata": {},
   "outputs": [
    {
     "data": {
      "text/plain": [
       "<matplotlib.image.AxesImage at 0x280a374f0>"
      ]
     },
     "execution_count": 56,
     "metadata": {},
     "output_type": "execute_result"
    },
    {
     "data": {
      "image/png": "[encoded data removed]",
      "text/plain": [
       "<Figure size 432x288 with 1 Axes>"
      ]
     },
     "metadata": {
      "needs_background": "light"
     },
     "output_type": "display_data"
    }
   ],
   "source": [
    "plt.imshow(correlate(embeddings['RUS'], embeddings['USA']), cmap='PiYG')"
   ]
  },
  {
   "cell_type": "code",
   "execution_count": 68,
   "id": "9d3f40e9",
   "metadata": {},
   "outputs": [
    {
     "data": {
      "text/plain": [
       "<matplotlib.image.AxesImage at 0x2816bf3d0>"
      ]
     },
     "execution_count": 68,
     "metadata": {},
     "output_type": "execute_result"
    },
    {
     "data": {
      "image/png": "[encoded data removed]",
      "text/plain": [
       "<Figure size 432x288 with 1 Axes>"
      ]
     },
     "metadata": {
      "needs_background": "light"
     },
     "output_type": "display_data"
    }
   ],
   "source": [
    "plt.imshow(correlate_minus_diag(embeddings['RUS']))"
   ]
  },
  {
   "cell_type": "code",
   "execution_count": 229,
   "id": "3a458219",
   "metadata": {},
   "outputs": [
    {
     "data": {
      "text/plain": [
       "<matplotlib.image.AxesImage at 0x2886f8d60>"
      ]
     },
     "execution_count": 229,
     "metadata": {},
     "output_type": "execute_result"
    },
    {
     "data": {
      "image/png": "[encoded data removed]",
      "text/plain": [
       "<Figure size 432x288 with 1 Axes>"
      ]
     },
     "metadata": {
      "needs_background": "light"
     },
     "output_type": "display_data"
    }
   ],
   "source": [
    "remove_diag = (rus_embed @ rus_embed.T) - (1 - (rus_embed @ rus_embed.T).mean()) * np.eye(rus_array.shape[0])\n",
    "plt.imshow(remove_diag, cmap='PiYG')"
   ]
  },
  {
   "cell_type": "code",
   "execution_count": 241,
   "id": "ee212234",
   "metadata": {},
   "outputs": [
    {
     "data": {
      "text/plain": [
       "array(['От южных морей до полярного края', 'Грядущие нам открывают года.',\n",
       "       'Широкий простор для мечты и для жизни',\n",
       "       'Одна ты на свете! Одна ты такая –',\n",
       "       'Раскинулись наши леса и поля.',\n",
       "       'Так было, так есть и так будет всегда!',\n",
       "       'Нам силу даёт наша верность Отчизне.',\n",
       "       'Братских народов союз вековой,', 'Братских народов союз вековой,',\n",
       "       'Могучая воля, великая слава –'], dtype='<U38')"
      ]
     },
     "execution_count": 241,
     "metadata": {},
     "output_type": "execute_result"
    }
   ],
   "source": [
    "rus_array[(rus_embed @ rus_embed.mean(axis=0)).argsort()[:10]]"
   ]
  },
  {
   "cell_type": "code",
   "execution_count": 208,
   "id": "9d77b043",
   "metadata": {},
   "outputs": [],
   "source": [
    "n_clusters = 5\n",
    "\n",
    "kmeans = KMeans(n_clusters=n_clusters, init=\"k-means++\", random_state=42)\n",
    "\n",
    "kmeans.fit(embeddings)\n",
    "labels = kmeans.labels_"
   ]
  },
  {
   "cell_type": "code",
   "execution_count": 210,
   "id": "725f17b9",
   "metadata": {},
   "outputs": [
    {
     "data": {
      "text/html": [
       "<div>\n",
       "<style scoped>\n",
       "    .dataframe tbody tr th:only-of-type {\n",
       "        vertical-align: middle;\n",
       "    }\n",
       "\n",
       "    .dataframe tbody tr th {\n",
       "        vertical-align: top;\n",
       "    }\n",
       "\n",
       "    .dataframe thead th {\n",
       "        text-align: right;\n",
       "    }\n",
       "</style>\n",
       "<table border=\"1\" class=\"dataframe\">\n",
       "  <thead>\n",
       "    <tr style=\"text-align: right;\">\n",
       "      <th></th>\n",
       "      <th>lyric</th>\n",
       "      <th>cluster</th>\n",
       "    </tr>\n",
       "  </thead>\n",
       "  <tbody>\n",
       "    <tr>\n",
       "      <th>0</th>\n",
       "      <td>O say can you see, by the dawn's early light,</td>\n",
       "      <td>2</td>\n",
       "    </tr>\n",
       "    <tr>\n",
       "      <th>1</th>\n",
       "      <td>What so proudly we hailed at the twilight's la...</td>\n",
       "      <td>2</td>\n",
       "    </tr>\n",
       "    <tr>\n",
       "      <th>2</th>\n",
       "      <td>Whose broad stripes and bright stars through t...</td>\n",
       "      <td>3</td>\n",
       "    </tr>\n",
       "    <tr>\n",
       "      <th>3</th>\n",
       "      <td>O'er the ramparts we watched, were so gallantl...</td>\n",
       "      <td>2</td>\n",
       "    </tr>\n",
       "    <tr>\n",
       "      <th>4</th>\n",
       "      <td>And the rocket's red glare, the bombs bursting...</td>\n",
       "      <td>2</td>\n",
       "    </tr>\n",
       "    <tr>\n",
       "      <th>5</th>\n",
       "      <td>Gave proof through the night that our flag was...</td>\n",
       "      <td>2</td>\n",
       "    </tr>\n",
       "    <tr>\n",
       "      <th>6</th>\n",
       "      <td>O say does that star-spangled banner yet wave</td>\n",
       "      <td>3</td>\n",
       "    </tr>\n",
       "    <tr>\n",
       "      <th>7</th>\n",
       "      <td>O'er the land of the free and the home of the ...</td>\n",
       "      <td>0</td>\n",
       "    </tr>\n",
       "    <tr>\n",
       "      <th>8</th>\n",
       "      <td>On the shore dimly seen through the mists of t...</td>\n",
       "      <td>1</td>\n",
       "    </tr>\n",
       "    <tr>\n",
       "      <th>9</th>\n",
       "      <td>Where the foe's haughty host in dread silence ...</td>\n",
       "      <td>1</td>\n",
       "    </tr>\n",
       "    <tr>\n",
       "      <th>10</th>\n",
       "      <td>What is that which the breeze, o'er the toweri...</td>\n",
       "      <td>1</td>\n",
       "    </tr>\n",
       "    <tr>\n",
       "      <th>11</th>\n",
       "      <td>As it fitfully blows, half conceals, half disc...</td>\n",
       "      <td>1</td>\n",
       "    </tr>\n",
       "    <tr>\n",
       "      <th>12</th>\n",
       "      <td>Now it catches the gleam of the morning's firs...</td>\n",
       "      <td>2</td>\n",
       "    </tr>\n",
       "    <tr>\n",
       "      <th>13</th>\n",
       "      <td>In full glory reflected now shines in the stream:</td>\n",
       "      <td>2</td>\n",
       "    </tr>\n",
       "    <tr>\n",
       "      <th>14</th>\n",
       "      <td>'Tis the star-spangled banner, O long may it wave</td>\n",
       "      <td>3</td>\n",
       "    </tr>\n",
       "    <tr>\n",
       "      <th>15</th>\n",
       "      <td>O'er the land of the free and the home of the ...</td>\n",
       "      <td>0</td>\n",
       "    </tr>\n",
       "    <tr>\n",
       "      <th>16</th>\n",
       "      <td>And where is that band who so vauntingly swore</td>\n",
       "      <td>2</td>\n",
       "    </tr>\n",
       "    <tr>\n",
       "      <th>17</th>\n",
       "      <td>That the havoc of war and the battle's confusion,</td>\n",
       "      <td>4</td>\n",
       "    </tr>\n",
       "    <tr>\n",
       "      <th>18</th>\n",
       "      <td>A home and a country, should leave us no more?</td>\n",
       "      <td>0</td>\n",
       "    </tr>\n",
       "    <tr>\n",
       "      <th>19</th>\n",
       "      <td>Their blood has washed out their foul footstep...</td>\n",
       "      <td>4</td>\n",
       "    </tr>\n",
       "    <tr>\n",
       "      <th>20</th>\n",
       "      <td>No refuge could save the hireling and slave</td>\n",
       "      <td>4</td>\n",
       "    </tr>\n",
       "    <tr>\n",
       "      <th>21</th>\n",
       "      <td>From the terror of flight, or the gloom of the...</td>\n",
       "      <td>1</td>\n",
       "    </tr>\n",
       "    <tr>\n",
       "      <th>22</th>\n",
       "      <td>And the star-spangled banner in triumph doth w...</td>\n",
       "      <td>3</td>\n",
       "    </tr>\n",
       "    <tr>\n",
       "      <th>23</th>\n",
       "      <td>O'er the land of the free and the home of the ...</td>\n",
       "      <td>0</td>\n",
       "    </tr>\n",
       "    <tr>\n",
       "      <th>24</th>\n",
       "      <td>O thus be it ever, when freemen shall stand</td>\n",
       "      <td>3</td>\n",
       "    </tr>\n",
       "    <tr>\n",
       "      <th>25</th>\n",
       "      <td>Between their loved homes and the war's desola...</td>\n",
       "      <td>4</td>\n",
       "    </tr>\n",
       "    <tr>\n",
       "      <th>26</th>\n",
       "      <td>Blest with vict'ry and peace, may the Heav'n r...</td>\n",
       "      <td>3</td>\n",
       "    </tr>\n",
       "    <tr>\n",
       "      <th>27</th>\n",
       "      <td>Praise the Power that hath made and preserved ...</td>\n",
       "      <td>3</td>\n",
       "    </tr>\n",
       "    <tr>\n",
       "      <th>28</th>\n",
       "      <td>Then conquer we must, when our cause it is just,</td>\n",
       "      <td>2</td>\n",
       "    </tr>\n",
       "    <tr>\n",
       "      <th>29</th>\n",
       "      <td>And this be our motto: 'In God is our trust.'</td>\n",
       "      <td>3</td>\n",
       "    </tr>\n",
       "    <tr>\n",
       "      <th>30</th>\n",
       "      <td>And the star-spangled banner in triumph shall ...</td>\n",
       "      <td>3</td>\n",
       "    </tr>\n",
       "    <tr>\n",
       "      <th>31</th>\n",
       "      <td>O'er the land of the free and the home of the ...</td>\n",
       "      <td>0</td>\n",
       "    </tr>\n",
       "  </tbody>\n",
       "</table>\n",
       "</div>"
      ],
      "text/plain": [
       "                                                lyric  cluster\n",
       "0       O say can you see, by the dawn's early light,        2\n",
       "1   What so proudly we hailed at the twilight's la...        2\n",
       "2   Whose broad stripes and bright stars through t...        3\n",
       "3   O'er the ramparts we watched, were so gallantl...        2\n",
       "4   And the rocket's red glare, the bombs bursting...        2\n",
       "5   Gave proof through the night that our flag was...        2\n",
       "6       O say does that star-spangled banner yet wave        3\n",
       "7   O'er the land of the free and the home of the ...        0\n",
       "8   On the shore dimly seen through the mists of t...        1\n",
       "9   Where the foe's haughty host in dread silence ...        1\n",
       "10  What is that which the breeze, o'er the toweri...        1\n",
       "11  As it fitfully blows, half conceals, half disc...        1\n",
       "12  Now it catches the gleam of the morning's firs...        2\n",
       "13  In full glory reflected now shines in the stream:        2\n",
       "14  'Tis the star-spangled banner, O long may it wave        3\n",
       "15  O'er the land of the free and the home of the ...        0\n",
       "16     And where is that band who so vauntingly swore        2\n",
       "17  That the havoc of war and the battle's confusion,        4\n",
       "18     A home and a country, should leave us no more?        0\n",
       "19  Their blood has washed out their foul footstep...        4\n",
       "20        No refuge could save the hireling and slave        4\n",
       "21  From the terror of flight, or the gloom of the...        1\n",
       "22  And the star-spangled banner in triumph doth w...        3\n",
       "23  O'er the land of the free and the home of the ...        0\n",
       "24        O thus be it ever, when freemen shall stand        3\n",
       "25  Between their loved homes and the war's desola...        4\n",
       "26  Blest with vict'ry and peace, may the Heav'n r...        3\n",
       "27  Praise the Power that hath made and preserved ...        3\n",
       "28   Then conquer we must, when our cause it is just,        2\n",
       "29      And this be our motto: 'In God is our trust.'        3\n",
       "30  And the star-spangled banner in triumph shall ...        3\n",
       "31  O'er the land of the free and the home of the ...        0"
      ]
     },
     "execution_count": 210,
     "metadata": {},
     "output_type": "execute_result"
    }
   ],
   "source": [
    "df = pd.DataFrame({'lyric': usa_array, 'cluster': labels})\n",
    "df"
   ]
  },
  {
   "cell_type": "code",
   "execution_count": 217,
   "id": "2ce89c2d",
   "metadata": {},
   "outputs": [
    {
     "data": {
      "text/plain": [
       "Text(0.5, 1.0, 'Clusters identified visualized in language 2d using t-SNE')"
      ]
     },
     "execution_count": 217,
     "metadata": {},
     "output_type": "execute_result"
    },
    {
     "data": {
      "image/png": "[encoded data removed]",
      "text/plain": [
       "<Figure size 432x288 with 1 Axes>"
      ]
     },
     "metadata": {
      "needs_background": "light"
     },
     "output_type": "display_data"
    }
   ],
   "source": [
    "tsne = TSNE(n_components=2, perplexity=15, random_state=42, init=\"random\", learning_rate=200)\n",
    "vis_dims2 = tsne.fit_transform(embeddings)\n",
    "\n",
    "x = [x for x, y in vis_dims2]\n",
    "y = [y for x, y in vis_dims2]\n",
    "\n",
    "for category, color in enumerate([\"purple\", \"green\", \"red\", \"blue\", \"black\"]):\n",
    "    xs = np.array(x)[df.cluster == category]\n",
    "    ys = np.array(y)[df.cluster == category]\n",
    "    plt.scatter(xs, ys, color=color, alpha=0.3)\n",
    "\n",
    "    avg_x = xs.mean()\n",
    "    avg_y = ys.mean()\n",
    "\n",
    "    plt.scatter(avg_x, avg_y, marker=\"x\", color=color, s=100)\n",
    "plt.title(\"Clusters identified visualized in language 2d using t-SNE\")"
   ]
  },
  {
   "cell_type": "code",
   "execution_count": 220,
   "id": "cfe7b836",
   "metadata": {},
   "outputs": [
    {
     "name": "stdout",
     "output_type": "stream",
     "text": [
      "Cluster 0 Theme:  The land of the free and the home of the brave.\n",
      "O'er the land of the free and the home of the brave.\n",
      "O'er the land of the free and the home of the brave!\n",
      "A home and a country, should leave us no more?\n",
      "O'er the land of the free and the home of the brave?\n",
      "----------------------------------------------------------------------------------------------------\n",
      "Cluster 1 Theme:  The power of nature\n",
      "Where the foe's haughty host in dread silence reposes,\n",
      "From the terror of flight, or the gloom of the grave:\n",
      "What is that which the breeze, o'er the towering steep,\n",
      "On the shore dimly seen through the mists of the deep,\n",
      "----------------------------------------------------------------------------------------------------\n",
      "Cluster 2 Theme:  The American Revolution\n",
      "And where is that band who so vauntingly swore\n",
      "What so proudly we hailed at the twilight's last gleaming,\n",
      "Now it catches the gleam of the morning's first beam,\n",
      "O say can you see, by the dawn's early light,\n",
      "----------------------------------------------------------------------------------------------------\n",
      "Cluster 3 Theme:  Patriotism and loyalty to the United States of America.\n",
      "And this be our motto: 'In God is our trust.'\n",
      "O say does that star-spangled banner yet wave\n",
      "Blest with vict'ry and peace, may the Heav'n rescued land\n",
      "Whose broad stripes and bright stars through the perilous fight,\n",
      "----------------------------------------------------------------------------------------------------\n",
      "Cluster 4 Theme:  The destruction and tragedy of war.\n",
      "Their blood has washed out their foul footsteps' pollution.\n",
      "Between their loved homes and the war's desolation.\n",
      "That the havoc of war and the battle's confusion,\n",
      "No refuge could save the hireling and slave\n",
      "----------------------------------------------------------------------------------------------------\n"
     ]
    }
   ],
   "source": [
    "rev_per_cluster = 4\n",
    "\n",
    "for i in range(n_clusters):\n",
    "    print(f\"Cluster {i} Theme:\", end=\" \")\n",
    "\n",
    "    lyrics = \"\\n\".join(\n",
    "        df[df.cluster == i]\n",
    "        .lyric\n",
    "        .sample(rev_per_cluster, random_state=42)\n",
    "        .values\n",
    "    )\n",
    "    response = openai.Completion.create(\n",
    "        engine=\"text-davinci-003\",\n",
    "        prompt=f'What do the following lyrics have in common?\\n\\nLyrics:\\n\"\"\"\\n{lyrics}\\n\"\"\"\\n\\nTheme:',\n",
    "        temperature=0,\n",
    "        max_tokens=64,\n",
    "        top_p=1,\n",
    "        frequency_penalty=0,\n",
    "        presence_penalty=0,\n",
    "    )\n",
    "    print(response[\"choices\"][0][\"text\"].replace(\"\\n\", \"\"))\n",
    "\n",
    "    sample_cluster_rows = df[df.cluster == i].sample(rev_per_cluster, random_state=42)\n",
    "    for j in range(rev_per_cluster):\n",
    "        print(sample_cluster_rows.lyric.values[j])\n",
    "\n",
    "    print(\"-\" * 100)"
   ]
  },
  {
   "cell_type": "code",
   "execution_count": null,
   "id": "1bd90fc1",
   "metadata": {},
   "outputs": [],
   "source": []
  }
 ],
 "metadata": {
  "kernelspec": {
   "display_name": "conda-forge",
   "language": "python",
   "name": "conda-forge"
  },
  "language_info": {
   "codemirror_mode": {
    "name": "ipython",
    "version": 3
   },
   "file_extension": ".py",
   "mimetype": "text/x-python",
   "name": "python",
   "nbconvert_exporter": "python",
   "pygments_lexer": "ipython3",
   "version": "3.9.7"
  }
 },
 "nbformat": 4,
 "nbformat_minor": 5
}
