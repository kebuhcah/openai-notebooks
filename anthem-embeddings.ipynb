{
 "cells": [
  {
   "cell_type": "code",
   "execution_count": 1,
   "id": "14072846",
   "metadata": {},
   "outputs": [
    {
     "name": "stdout",
     "output_type": "stream",
     "text": [
      "Loading USA from file\n",
      "Loading RUS from file\n",
      "Loading CAN from file\n",
      "Loading GBR from file\n",
      "Loading NZL from file\n",
      "Loading PRK from file\n",
      "Loading AUS from file\n",
      "Loading KOR from file\n"
     ]
    }
   ],
   "source": [
    "import os\n",
    "from pathlib import Path\n",
    "\n",
    "import matplotlib as mpl\n",
    "import matplotlib.pyplot as plt\n",
    "import numpy as np\n",
    "import openai\n",
    "import pandas as pd\n",
    "\n",
    "from sklearn.cluster import KMeans\n",
    "from sklearn.manifold import TSNE\n",
    "\n",
    "def correlate(e1, e2=None):\n",
    "    if e2 is None:\n",
    "        e2 = e1\n",
    "    return e1 @ e2.T\n",
    "\n",
    "def correlate_minus_diag(e1):\n",
    "    correlation = e1 @ e1.T\n",
    "    return correlation - (1 - correlation.mean()) * np.eye(correlation.shape[0])\n",
    "\n",
    "with open('.env') as f:\n",
    "    openai.api_key = f.read().strip().split('=')[1]\n",
    "\n",
    "anthems_dir = Path('data/anthems')\n",
    "file_paths = {}\n",
    "lyrics = {}\n",
    "embeddings = {}\n",
    "\n",
    "for g in anthems_dir.glob('*.txt'):\n",
    "    stem = g.stem\n",
    "    file_paths[stem] = g\n",
    "    \n",
    "    with open(g) as f:\n",
    "        lyrics[stem] = np.asarray([line.strip() for line in f.readlines() if line.strip() != \"\"])\n",
    "\n",
    "    emb_path = g.with_suffix('.emb')\n",
    "    if os.path.isfile(emb_path):\n",
    "        print(f\"Loading {stem} from file\")\n",
    "        embeddings[stem] = np.loadtxt(emb_path)\n",
    "    else:\n",
    "        print(f\"Fetching {stem} from OpenAI\")\n",
    "        response = openai.Embedding.create(input=list(lyrics[stem]), model=\"text-embedding-ada-002\")\n",
    "        embeddings[stem] = np.asarray([e.embedding for e in response['data']])\n",
    "        np.savetxt(emb_path, embeddings[stem])"
   ]
  },
  {
   "cell_type": "code",
   "execution_count": 112,
   "id": "628614b9",
   "metadata": {},
   "outputs": [
    {
     "data": {
      "text/plain": [
       "<matplotlib.image.AxesImage at 0x2828ab250>"
      ]
     },
     "execution_count": 112,
     "metadata": {},
     "output_type": "execute_result"
    },
    {
     "data": {
      "image/png": "[encoded data removed]",
      "text/plain": [
       "<Figure size 432x288 with 1 Axes>"
      ]
     },
     "metadata": {
      "needs_background": "light"
     },
     "output_type": "display_data"
    }
   ],
   "source": [
    "plt.imshow(correlate(embeddings['NZL'], embeddings['USA']), cmap='PiYG')"
   ]
  },
  {
   "cell_type": "code",
   "execution_count": 115,
   "id": "74b7af19",
   "metadata": {},
   "outputs": [
    {
     "name": "stdout",
     "output_type": "stream",
     "text": [
      "0.9109301072673278\n"
     ]
    },
    {
     "data": {
      "text/plain": [
       "('Then conquer we must, when our cause it is just,',\n",
       " 'Let our cause be just and right,')"
      ]
     },
     "execution_count": 115,
     "metadata": {},
     "output_type": "execute_result"
    }
   ],
   "source": [
    "country1 = 'USA'\n",
    "country2 = 'NZL'\n",
    "c = correlate(embeddings[country1], embeddings[country2])\n",
    "idx1, idx2 = np.unravel_index(c.argmax(), c.shape)\n",
    "\n",
    "print(c.max())\n",
    "\n",
    "lyrics[country1][idx1], lyrics[country2][idx2]"
   ]
  },
  {
   "cell_type": "code",
   "execution_count": 116,
   "id": "9d3f40e9",
   "metadata": {},
   "outputs": [
    {
     "data": {
      "text/plain": [
       "<matplotlib.image.AxesImage at 0x28267d040>"
      ]
     },
     "execution_count": 116,
     "metadata": {},
     "output_type": "execute_result"
    },
    {
     "data": {
      "image/png": "[encoded data removed]",
      "text/plain": [
       "<Figure size 432x288 with 1 Axes>"
      ]
     },
     "metadata": {
      "needs_background": "light"
     },
     "output_type": "display_data"
    }
   ],
   "source": [
    "plt.imshow(correlate_minus_diag(embeddings['AUS']), cmap='PiYG')"
   ]
  },
  {
   "cell_type": "code",
   "execution_count": 118,
   "id": "1a9a78b2",
   "metadata": {},
   "outputs": [
    {
     "data": {
      "text/plain": [
       "(array([ 56.,  90., 124.,  78.,  38.,   0.,   6.,   0.,   0.,   8.]),\n",
       " array([0.73838607, 0.76454747, 0.79070886, 0.81687026, 0.84303165,\n",
       "        0.86919305, 0.89535445, 0.92151584, 0.94767724, 0.97383863,\n",
       "        1.00000003]),\n",
       " <BarContainer object of 10 artists>)"
      ]
     },
     "execution_count": 118,
     "metadata": {},
     "output_type": "execute_result"
    },
    {
     "data": {
      "image/png": "[encoded data removed]",
      "text/plain": [
       "<Figure size 432x288 with 1 Axes>"
      ]
     },
     "metadata": {
      "needs_background": "light"
     },
     "output_type": "display_data"
    }
   ],
   "source": [
    "plt.hist(correlate_minus_diag(embeddings['AUS']).ravel())"
   ]
  },
  {
   "cell_type": "code",
   "execution_count": 119,
   "id": "209b479a",
   "metadata": {},
   "outputs": [
    {
     "name": "stdout",
     "output_type": "stream",
     "text": [
      "USA (32, 1536)\n",
      "RUS (20, 1536)\n",
      "CAN (10, 1536)\n",
      "GBR (21, 1536)\n",
      "NZL (40, 1536)\n",
      "PRK (24, 1536)\n",
      "AUS (20, 1536)\n",
      "KOR (16, 1536)\n"
     ]
    }
   ],
   "source": [
    "for key in embeddings.keys():\n",
    "    print(key, embeddings[key].shape)"
   ]
  },
  {
   "cell_type": "code",
   "execution_count": 43,
   "id": "e3ff06a4",
   "metadata": {},
   "outputs": [
    {
     "name": "stdout",
     "output_type": "stream",
     "text": [
      "123\n",
      "(123, 1536)\n"
     ]
    }
   ],
   "source": [
    "anglo_countries = ['USA', 'CAN', 'GBR', 'AUS', 'NZL']\n",
    "\n",
    "anglo_lyrics = pd.concat(pd.DataFrame({'lyric': lyrics[country], 'country': country}).reset_index().set_index(['country', 'index']) for country in anglo_countries)\n",
    "anglo_embeddings = np.vstack([embeddings[country] for country in anglo_countries])\n",
    "\n",
    "print(len(anglo_lyrics))\n",
    "print(anglo_embeddings.shape)"
   ]
  },
  {
   "cell_type": "code",
   "execution_count": 44,
   "id": "9d77b043",
   "metadata": {},
   "outputs": [
    {
     "data": {
      "text/html": [
       "<div>\n",
       "<style scoped>\n",
       "    .dataframe tbody tr th:only-of-type {\n",
       "        vertical-align: middle;\n",
       "    }\n",
       "\n",
       "    .dataframe tbody tr th {\n",
       "        vertical-align: top;\n",
       "    }\n",
       "\n",
       "    .dataframe thead th {\n",
       "        text-align: right;\n",
       "    }\n",
       "</style>\n",
       "<table border=\"1\" class=\"dataframe\">\n",
       "  <thead>\n",
       "    <tr style=\"text-align: right;\">\n",
       "      <th></th>\n",
       "      <th></th>\n",
       "      <th>lyric</th>\n",
       "      <th>cluster</th>\n",
       "    </tr>\n",
       "    <tr>\n",
       "      <th>country</th>\n",
       "      <th>index</th>\n",
       "      <th></th>\n",
       "      <th></th>\n",
       "    </tr>\n",
       "  </thead>\n",
       "  <tbody>\n",
       "    <tr>\n",
       "      <th rowspan=\"5\" valign=\"top\">USA</th>\n",
       "      <th>0</th>\n",
       "      <td>O say can you see, by the dawn's early light,</td>\n",
       "      <td>1</td>\n",
       "    </tr>\n",
       "    <tr>\n",
       "      <th>1</th>\n",
       "      <td>What so proudly we hailed at the twilight's la...</td>\n",
       "      <td>4</td>\n",
       "    </tr>\n",
       "    <tr>\n",
       "      <th>2</th>\n",
       "      <td>Whose broad stripes and bright stars through t...</td>\n",
       "      <td>4</td>\n",
       "    </tr>\n",
       "    <tr>\n",
       "      <th>3</th>\n",
       "      <td>O'er the ramparts we watched, were so gallantl...</td>\n",
       "      <td>4</td>\n",
       "    </tr>\n",
       "    <tr>\n",
       "      <th>4</th>\n",
       "      <td>And the rocket's red glare, the bombs bursting...</td>\n",
       "      <td>4</td>\n",
       "    </tr>\n",
       "    <tr>\n",
       "      <th>...</th>\n",
       "      <th>...</th>\n",
       "      <td>...</td>\n",
       "      <td>...</td>\n",
       "    </tr>\n",
       "    <tr>\n",
       "      <th rowspan=\"5\" valign=\"top\">NZL</th>\n",
       "      <th>35</th>\n",
       "      <td>God defend our free land.</td>\n",
       "      <td>3</td>\n",
       "    </tr>\n",
       "    <tr>\n",
       "      <th>36</th>\n",
       "      <td>Guide her in the nations' van,</td>\n",
       "      <td>2</td>\n",
       "    </tr>\n",
       "    <tr>\n",
       "      <th>37</th>\n",
       "      <td>Preaching love and truth to man,</td>\n",
       "      <td>1</td>\n",
       "    </tr>\n",
       "    <tr>\n",
       "      <th>38</th>\n",
       "      <td>Working out Thy glorious plan,</td>\n",
       "      <td>2</td>\n",
       "    </tr>\n",
       "    <tr>\n",
       "      <th>39</th>\n",
       "      <td>God defend New Zealand.</td>\n",
       "      <td>3</td>\n",
       "    </tr>\n",
       "  </tbody>\n",
       "</table>\n",
       "<p>123 rows × 2 columns</p>\n",
       "</div>"
      ],
      "text/plain": [
       "                                                           lyric  cluster\n",
       "country index                                                            \n",
       "USA     0          O say can you see, by the dawn's early light,        1\n",
       "        1      What so proudly we hailed at the twilight's la...        4\n",
       "        2      Whose broad stripes and bright stars through t...        4\n",
       "        3      O'er the ramparts we watched, were so gallantl...        4\n",
       "        4      And the rocket's red glare, the bombs bursting...        4\n",
       "...                                                          ...      ...\n",
       "NZL     35                             God defend our free land.        3\n",
       "        36                        Guide her in the nations' van,        2\n",
       "        37                      Preaching love and truth to man,        1\n",
       "        38                        Working out Thy glorious plan,        2\n",
       "        39                               God defend New Zealand.        3\n",
       "\n",
       "[123 rows x 2 columns]"
      ]
     },
     "execution_count": 44,
     "metadata": {},
     "output_type": "execute_result"
    }
   ],
   "source": [
    "n_clusters = 5\n",
    "\n",
    "kmeans = KMeans(n_clusters=n_clusters, init=\"k-means++\", random_state=42)\n",
    "kmeans.fit(anglo_embeddings)\n",
    "anglo['cluster'] = kmeans.labels_\n",
    "anglo"
   ]
  },
  {
   "cell_type": "code",
   "execution_count": 49,
   "id": "3f02f754",
   "metadata": {},
   "outputs": [
    {
     "data": {
      "text/html": [
       "<div>\n",
       "<style scoped>\n",
       "    .dataframe tbody tr th:only-of-type {\n",
       "        vertical-align: middle;\n",
       "    }\n",
       "\n",
       "    .dataframe tbody tr th {\n",
       "        vertical-align: top;\n",
       "    }\n",
       "\n",
       "    .dataframe thead th {\n",
       "        text-align: right;\n",
       "    }\n",
       "</style>\n",
       "<table border=\"1\" class=\"dataframe\">\n",
       "  <thead>\n",
       "    <tr style=\"text-align: right;\">\n",
       "      <th></th>\n",
       "      <th></th>\n",
       "      <th>lyric</th>\n",
       "      <th>cluster</th>\n",
       "    </tr>\n",
       "    <tr>\n",
       "      <th>country</th>\n",
       "      <th>index</th>\n",
       "      <th></th>\n",
       "      <th></th>\n",
       "    </tr>\n",
       "  </thead>\n",
       "  <tbody>\n",
       "    <tr>\n",
       "      <th rowspan=\"21\" valign=\"top\">USA</th>\n",
       "      <th>1</th>\n",
       "      <td>What so proudly we hailed at the twilight's la...</td>\n",
       "      <td>4</td>\n",
       "    </tr>\n",
       "    <tr>\n",
       "      <th>2</th>\n",
       "      <td>Whose broad stripes and bright stars through t...</td>\n",
       "      <td>4</td>\n",
       "    </tr>\n",
       "    <tr>\n",
       "      <th>3</th>\n",
       "      <td>O'er the ramparts we watched, were so gallantl...</td>\n",
       "      <td>4</td>\n",
       "    </tr>\n",
       "    <tr>\n",
       "      <th>4</th>\n",
       "      <td>And the rocket's red glare, the bombs bursting...</td>\n",
       "      <td>4</td>\n",
       "    </tr>\n",
       "    <tr>\n",
       "      <th>5</th>\n",
       "      <td>Gave proof through the night that our flag was...</td>\n",
       "      <td>4</td>\n",
       "    </tr>\n",
       "    <tr>\n",
       "      <th>6</th>\n",
       "      <td>O say does that star-spangled banner yet wave</td>\n",
       "      <td>4</td>\n",
       "    </tr>\n",
       "    <tr>\n",
       "      <th>7</th>\n",
       "      <td>O'er the land of the free and the home of the ...</td>\n",
       "      <td>4</td>\n",
       "    </tr>\n",
       "    <tr>\n",
       "      <th>10</th>\n",
       "      <td>What is that which the breeze, o'er the toweri...</td>\n",
       "      <td>4</td>\n",
       "    </tr>\n",
       "    <tr>\n",
       "      <th>11</th>\n",
       "      <td>As it fitfully blows, half conceals, half disc...</td>\n",
       "      <td>4</td>\n",
       "    </tr>\n",
       "    <tr>\n",
       "      <th>14</th>\n",
       "      <td>'Tis the star-spangled banner, O long may it wave</td>\n",
       "      <td>4</td>\n",
       "    </tr>\n",
       "    <tr>\n",
       "      <th>15</th>\n",
       "      <td>O'er the land of the free and the home of the ...</td>\n",
       "      <td>4</td>\n",
       "    </tr>\n",
       "    <tr>\n",
       "      <th>16</th>\n",
       "      <td>And where is that band who so vauntingly swore</td>\n",
       "      <td>4</td>\n",
       "    </tr>\n",
       "    <tr>\n",
       "      <th>18</th>\n",
       "      <td>A home and a country, should leave us no more?</td>\n",
       "      <td>4</td>\n",
       "    </tr>\n",
       "    <tr>\n",
       "      <th>19</th>\n",
       "      <td>Their blood has washed out their foul footstep...</td>\n",
       "      <td>4</td>\n",
       "    </tr>\n",
       "    <tr>\n",
       "      <th>20</th>\n",
       "      <td>No refuge could save the hireling and slave</td>\n",
       "      <td>4</td>\n",
       "    </tr>\n",
       "    <tr>\n",
       "      <th>22</th>\n",
       "      <td>And the star-spangled banner in triumph doth w...</td>\n",
       "      <td>4</td>\n",
       "    </tr>\n",
       "    <tr>\n",
       "      <th>23</th>\n",
       "      <td>O'er the land of the free and the home of the ...</td>\n",
       "      <td>4</td>\n",
       "    </tr>\n",
       "    <tr>\n",
       "      <th>24</th>\n",
       "      <td>O thus be it ever, when freemen shall stand</td>\n",
       "      <td>4</td>\n",
       "    </tr>\n",
       "    <tr>\n",
       "      <th>25</th>\n",
       "      <td>Between their loved homes and the war's desola...</td>\n",
       "      <td>4</td>\n",
       "    </tr>\n",
       "    <tr>\n",
       "      <th>30</th>\n",
       "      <td>And the star-spangled banner in triumph shall ...</td>\n",
       "      <td>4</td>\n",
       "    </tr>\n",
       "    <tr>\n",
       "      <th>31</th>\n",
       "      <td>O'er the land of the free and the home of the ...</td>\n",
       "      <td>4</td>\n",
       "    </tr>\n",
       "    <tr>\n",
       "      <th rowspan=\"2\" valign=\"top\">CAN</th>\n",
       "      <th>1</th>\n",
       "      <td>Our home and native land!</td>\n",
       "      <td>4</td>\n",
       "    </tr>\n",
       "    <tr>\n",
       "      <th>4</th>\n",
       "      <td>The True North strong and free!</td>\n",
       "      <td>4</td>\n",
       "    </tr>\n",
       "    <tr>\n",
       "      <th>AUS</th>\n",
       "      <th>14</th>\n",
       "      <td>For those who’ve come across the seas</td>\n",
       "      <td>4</td>\n",
       "    </tr>\n",
       "    <tr>\n",
       "      <th>NZL</th>\n",
       "      <th>33</th>\n",
       "      <td>Freedom's ramparts on the sea,</td>\n",
       "      <td>4</td>\n",
       "    </tr>\n",
       "  </tbody>\n",
       "</table>\n",
       "</div>"
      ],
      "text/plain": [
       "                                                           lyric  cluster\n",
       "country index                                                            \n",
       "USA     1      What so proudly we hailed at the twilight's la...        4\n",
       "        2      Whose broad stripes and bright stars through t...        4\n",
       "        3      O'er the ramparts we watched, were so gallantl...        4\n",
       "        4      And the rocket's red glare, the bombs bursting...        4\n",
       "        5      Gave proof through the night that our flag was...        4\n",
       "        6          O say does that star-spangled banner yet wave        4\n",
       "        7      O'er the land of the free and the home of the ...        4\n",
       "        10     What is that which the breeze, o'er the toweri...        4\n",
       "        11     As it fitfully blows, half conceals, half disc...        4\n",
       "        14     'Tis the star-spangled banner, O long may it wave        4\n",
       "        15     O'er the land of the free and the home of the ...        4\n",
       "        16        And where is that band who so vauntingly swore        4\n",
       "        18        A home and a country, should leave us no more?        4\n",
       "        19     Their blood has washed out their foul footstep...        4\n",
       "        20           No refuge could save the hireling and slave        4\n",
       "        22     And the star-spangled banner in triumph doth w...        4\n",
       "        23     O'er the land of the free and the home of the ...        4\n",
       "        24           O thus be it ever, when freemen shall stand        4\n",
       "        25     Between their loved homes and the war's desola...        4\n",
       "        30     And the star-spangled banner in triumph shall ...        4\n",
       "        31     O'er the land of the free and the home of the ...        4\n",
       "CAN     1                              Our home and native land!        4\n",
       "        4                        The True North strong and free!        4\n",
       "AUS     14                 For those who’ve come across the seas        4\n",
       "NZL     33                        Freedom's ramparts on the sea,        4"
      ]
     },
     "execution_count": 49,
     "metadata": {},
     "output_type": "execute_result"
    }
   ],
   "source": [
    "anglo[anglo['cluster'] == 4]"
   ]
  },
  {
   "cell_type": "code",
   "execution_count": 66,
   "id": "6dfedcdf",
   "metadata": {},
   "outputs": [
    {
     "data": {
      "text/plain": [
       "(0.09019607843137255, 0.7450980392156863, 0.8117647058823529, 1.0)"
      ]
     },
     "execution_count": 66,
     "metadata": {},
     "output_type": "execute_result"
    }
   ],
   "source": [
    "\n",
    "mpl.cm.get_cmap('tab10', 10)(10)"
   ]
  },
  {
   "cell_type": "code",
   "execution_count": 79,
   "id": "2ce89c2d",
   "metadata": {},
   "outputs": [
    {
     "data": {
      "text/plain": [
       "Text(0.5, 1.0, 'Clusters identified visualized in language 2d using t-SNE')"
      ]
     },
     "execution_count": 79,
     "metadata": {},
     "output_type": "execute_result"
    },
    {
     "data": {
      "image/png": "[encoded data removed]",
      "text/plain": [
       "<Figure size 576x576 with 1 Axes>"
      ]
     },
     "metadata": {
      "needs_background": "light"
     },
     "output_type": "display_data"
    }
   ],
   "source": [
    "tsne = TSNE(n_components=2, perplexity=15, random_state=42, init=\"random\", learning_rate=200)\n",
    "vis_dims2 = tsne.fit_transform(anglo_embeddings)\n",
    "\n",
    "x = [x for x, y in vis_dims2]\n",
    "y = [y for x, y in vis_dims2]\n",
    "\n",
    "fig, ax = plt.subplots(figsize=(8,8))\n",
    "\n",
    "for category, color in enumerate([\"purple\", \"green\", \"red\", \"blue\", \"black\"]):\n",
    "    xs = np.array(x)[anglo.cluster == category]\n",
    "    ys = np.array(y)[anglo.cluster == category]\n",
    "    ax.scatter(xs, ys, color=color, alpha=0.3)\n",
    "\n",
    "    avg_x = xs.mean()\n",
    "    avg_y = ys.mean()\n",
    "\n",
    "    ax.scatter(avg_x, avg_y, marker=\"x\", color=color, s=100)\n",
    "ax.set_title(\"Clusters identified visualized in language 2d using t-SNE\")"
   ]
  },
  {
   "cell_type": "code",
   "execution_count": 80,
   "id": "cfe7b836",
   "metadata": {},
   "outputs": [
    {
     "name": "stdout",
     "output_type": "stream",
     "text": [
      "Cluster 0 Theme:  Patriotism and national pride\n",
      "Advance Australia fair!\n",
      "O Canada, we stand on guard for thee.\n",
      "Advance Australia fair!\n",
      "O Canada!\n",
      "Guard Pacific's triple star\n",
      "----------------------------------------------------------------------------------------------------\n",
      "Cluster 1 Theme:  The celebration of Australia's natural beauty and peacefulness.\n",
      "Peace, not war, shall be our boast,\n",
      "Our home is girt by sea;\n",
      "In joyful strains then let us sing\n",
      "Of beauty rich and rare;\n",
      "From far and wide,\n",
      "----------------------------------------------------------------------------------------------------\n",
      "Cluster 2 Theme:  Patriotism and loyalty to God\n",
      "Guard our country's spotless name,\n",
      "Make us faithful unto Thee,\n",
      "O Lord our God arise,\n",
      "For we are one and free;\n",
      "Let our love for Thee increase,\n",
      "----------------------------------------------------------------------------------------------------\n",
      "Cluster 3 Theme:  Patriotism and national pride\n",
      "Blest with vict'ry and peace, may the Heav'n rescued land\n",
      "God defend New Zealand.\n",
      "God defend New Zealand.\n",
      "Praise the Power that hath made and preserved us a nation!\n",
      "God save us all!\n",
      "----------------------------------------------------------------------------------------------------\n",
      "Cluster 4 Theme:  The lyrics all refer to the United States of America.\n",
      "As it fitfully blows, half conceals, half discloses?\n",
      "O'er the land of the free and the home of the brave.\n",
      "What so proudly we hailed at the twilight's last gleaming,\n",
      "For those who’ve come across the seas\n",
      "And where is that band who so vauntingly swore\n",
      "----------------------------------------------------------------------------------------------------\n"
     ]
    }
   ],
   "source": [
    "rev_per_cluster = 5\n",
    "\n",
    "for i in range(n_clusters):\n",
    "    print(f\"Cluster {i} Theme:\", end=\" \")\n",
    "\n",
    "    lyrics = \"\\n\".join(\n",
    "        anglo[anglo.cluster == i]\n",
    "        .lyric\n",
    "        .sample(rev_per_cluster, random_state=42)\n",
    "        .values\n",
    "    )\n",
    "    response = openai.Completion.create(\n",
    "        engine=\"text-davinci-003\",\n",
    "        prompt=f'What do the following lyrics have in common?\\n\\nLyrics:\\n\"\"\"\\n{lyrics}\\n\"\"\"\\n\\nTheme:',\n",
    "        temperature=0,\n",
    "        max_tokens=64,\n",
    "        top_p=1,\n",
    "        frequency_penalty=0,\n",
    "        presence_penalty=0,\n",
    "    )\n",
    "    print(response[\"choices\"][0][\"text\"].replace(\"\\n\", \"\"))\n",
    "\n",
    "    sample_cluster_rows = anglo[anglo.cluster == i].sample(rev_per_cluster, random_state=42)\n",
    "    for j in range(rev_per_cluster):\n",
    "        print(sample_cluster_rows.lyric.values[j])\n",
    "\n",
    "    print(\"-\" * 100)"
   ]
  },
  {
   "cell_type": "code",
   "execution_count": null,
   "id": "1bd90fc1",
   "metadata": {},
   "outputs": [],
   "source": []
  }
 ],
 "metadata": {
  "kernelspec": {
   "display_name": "conda-forge",
   "language": "python",
   "name": "conda-forge"
  },
  "language_info": {
   "codemirror_mode": {
    "name": "ipython",
    "version": 3
   },
   "file_extension": ".py",
   "mimetype": "text/x-python",
   "name": "python",
   "nbconvert_exporter": "python",
   "pygments_lexer": "ipython3",
   "version": "3.9.7"
  }
 },
 "nbformat": 4,
 "nbformat_minor": 5
}
