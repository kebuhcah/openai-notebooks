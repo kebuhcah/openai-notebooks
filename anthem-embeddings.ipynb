{
 "cells": [
  {
   "cell_type": "code",
   "execution_count": 80,
   "id": "14072846",
   "metadata": {},
   "outputs": [
    {
     "name": "stdout",
     "output_type": "stream",
     "text": [
      "Loading USA from file\n",
      "Loading RUS from file\n",
      "Fetching CAN from OpenAI\n",
      "Fetching GBR from OpenAI\n",
      "Fetching PRK from OpenAI\n",
      "Fetching KOR from OpenAI\n"
     ]
    }
   ],
   "source": [
    "import os\n",
    "from pathlib import Path\n",
    "\n",
    "import matplotlib as mpl\n",
    "import matplotlib.pyplot as plt\n",
    "import numpy as np\n",
    "import openai\n",
    "import pandas as pd\n",
    "\n",
    "from sklearn.cluster import KMeans\n",
    "from sklearn.manifold import TSNE\n",
    "\n",
    "def correlate(e1, e2=None):\n",
    "    if e2 is None:\n",
    "        e2 = e1\n",
    "    return e1 @ e2.T\n",
    "\n",
    "def correlate_minus_diag(e1):\n",
    "    correlation = e1 @ e1.T\n",
    "    return correlation - (1 - correlation.mean()) * np.eye(correlation.shape[0])\n",
    "\n",
    "with open('.env') as f:\n",
    "    openai.api_key = f.read().strip().split('=')[1]\n",
    "\n",
    "anthems_dir = Path('data/anthems')\n",
    "file_paths = {}\n",
    "lyrics = {}\n",
    "embeddings = {}\n",
    "\n",
    "for g in anthems_dir.glob('*.txt'):\n",
    "    stem = g.stem\n",
    "    file_paths[stem] = g\n",
    "    \n",
    "    with open(g) as f:\n",
    "        lyrics[stem] = np.asarray([line.strip() for line in f.readlines() if line.strip() != \"\"])\n",
    "\n",
    "    emb_path = g.with_suffix('.emb')\n",
    "    if os.path.isfile(emb_path):\n",
    "        print(f\"Loading {stem} from file\")\n",
    "        embeddings[stem] = np.loadtxt(emb_path)\n",
    "    else:\n",
    "        print(f\"Fetching {stem} from OpenAI\")\n",
    "        response = openai.Embedding.create(input=list(lyrics[stem]), model=\"text-embedding-ada-002\")\n",
    "        embeddings[stem] = np.asarray([e.embedding for e in response['data']])\n",
    "        np.savetxt(emb_path, embeddings[stem])"
   ]
  },
  {
   "cell_type": "code",
   "execution_count": 87,
   "id": "628614b9",
   "metadata": {},
   "outputs": [
    {
     "data": {
      "text/plain": [
       "<matplotlib.image.AxesImage at 0x281ab7af0>"
      ]
     },
     "execution_count": 87,
     "metadata": {},
     "output_type": "execute_result"
    },
    {
     "data": {
      "image/png": "[encoded data removed]",
      "text/plain": [
       "<Figure size 432x288 with 1 Axes>"
      ]
     },
     "metadata": {
      "needs_background": "light"
     },
     "output_type": "display_data"
    }
   ],
   "source": [
    "plt.imshow(correlate(embeddings['CAN'], embeddings['USA']), cmap='PiYG')"
   ]
  },
  {
   "cell_type": "code",
   "execution_count": 91,
   "id": "74b7af19",
   "metadata": {},
   "outputs": [
    {
     "name": "stdout",
     "output_type": "stream",
     "text": [
      "0.883780826497528\n"
     ]
    },
    {
     "data": {
      "text/plain": [
       "('God save us all!', 'God keep our land glorious and free!')"
      ]
     },
     "execution_count": 91,
     "metadata": {},
     "output_type": "execute_result"
    }
   ],
   "source": [
    "country1 = 'GBR'\n",
    "country2 = 'CAN'\n",
    "c = correlate(embeddings[country1], embeddings[country2])\n",
    "idx1, idx2 = np.unravel_index(c.argmax(), c.shape)\n",
    "\n",
    "print(c.max())\n",
    "\n",
    "lyrics[country1][idx1], lyrics[country2][idx2]"
   ]
  },
  {
   "cell_type": "code",
   "execution_count": 94,
   "id": "9d3f40e9",
   "metadata": {},
   "outputs": [
    {
     "data": {
      "text/plain": [
       "<matplotlib.image.AxesImage at 0x281af36d0>"
      ]
     },
     "execution_count": 94,
     "metadata": {},
     "output_type": "execute_result"
    },
    {
     "data": {
      "image/png": "[encoded data removed]",
      "text/plain": [
       "<Figure size 432x288 with 1 Axes>"
      ]
     },
     "metadata": {
      "needs_background": "light"
     },
     "output_type": "display_data"
    }
   ],
   "source": [
    "plt.imshow(correlate_minus_diag(embeddings['PRK']), cmap='PiYG')"
   ]
  },
  {
   "cell_type": "code",
   "execution_count": 95,
   "id": "209b479a",
   "metadata": {},
   "outputs": [
    {
     "name": "stdout",
     "output_type": "stream",
     "text": [
      "USA (32, 1536)\n",
      "RUS (20, 1536)\n",
      "CAN (10, 1536)\n",
      "GBR (21, 1536)\n",
      "PRK (24, 1536)\n",
      "KOR (16, 1536)\n"
     ]
    }
   ],
   "source": [
    "for key in embeddings.keys():\n",
    "    print(key, embeddings[key].shape)"
   ]
  },
  {
   "cell_type": "code",
   "execution_count": 99,
   "id": "9d77b043",
   "metadata": {},
   "outputs": [],
   "source": [
    "n_clusters = 3\n",
    "\n",
    "kmeans = KMeans(n_clusters=n_clusters, init=\"k-means++\", random_state=42)\n",
    "\n",
    "kmeans.fit(embeddings['PRK'])\n",
    "labels = kmeans.labels_"
   ]
  },
  {
   "cell_type": "code",
   "execution_count": 100,
   "id": "725f17b9",
   "metadata": {},
   "outputs": [
    {
     "data": {
      "text/html": [
       "<div>\n",
       "<style scoped>\n",
       "    .dataframe tbody tr th:only-of-type {\n",
       "        vertical-align: middle;\n",
       "    }\n",
       "\n",
       "    .dataframe tbody tr th {\n",
       "        vertical-align: top;\n",
       "    }\n",
       "\n",
       "    .dataframe thead th {\n",
       "        text-align: right;\n",
       "    }\n",
       "</style>\n",
       "<table border=\"1\" class=\"dataframe\">\n",
       "  <thead>\n",
       "    <tr style=\"text-align: right;\">\n",
       "      <th></th>\n",
       "      <th>lyric</th>\n",
       "      <th>cluster</th>\n",
       "    </tr>\n",
       "  </thead>\n",
       "  <tbody>\n",
       "    <tr>\n",
       "      <th>0</th>\n",
       "      <td>아침은 빛나라 이 강산</td>\n",
       "      <td>2</td>\n",
       "    </tr>\n",
       "    <tr>\n",
       "      <th>1</th>\n",
       "      <td>은금에 자원도 가득한</td>\n",
       "      <td>1</td>\n",
       "    </tr>\n",
       "    <tr>\n",
       "      <th>2</th>\n",
       "      <td>삼천리 아름다운 내 조국</td>\n",
       "      <td>2</td>\n",
       "    </tr>\n",
       "    <tr>\n",
       "      <th>3</th>\n",
       "      <td>반만년 오랜 력사에</td>\n",
       "      <td>2</td>\n",
       "    </tr>\n",
       "    <tr>\n",
       "      <th>4</th>\n",
       "      <td>찬란한 문화로 자라난</td>\n",
       "      <td>1</td>\n",
       "    </tr>\n",
       "    <tr>\n",
       "      <th>5</th>\n",
       "      <td>슬기론 인민의 이 영광</td>\n",
       "      <td>1</td>\n",
       "    </tr>\n",
       "    <tr>\n",
       "      <th>6</th>\n",
       "      <td>몸과 맘 다 바쳐 이 조선</td>\n",
       "      <td>2</td>\n",
       "    </tr>\n",
       "    <tr>\n",
       "      <th>7</th>\n",
       "      <td>길이 받드세</td>\n",
       "      <td>0</td>\n",
       "    </tr>\n",
       "    <tr>\n",
       "      <th>8</th>\n",
       "      <td>찬란한 문화로 자라난</td>\n",
       "      <td>1</td>\n",
       "    </tr>\n",
       "    <tr>\n",
       "      <th>9</th>\n",
       "      <td>슬기론 인민의 이 영광</td>\n",
       "      <td>1</td>\n",
       "    </tr>\n",
       "    <tr>\n",
       "      <th>10</th>\n",
       "      <td>몸과 맘 다 바쳐 이 조선</td>\n",
       "      <td>2</td>\n",
       "    </tr>\n",
       "    <tr>\n",
       "      <th>11</th>\n",
       "      <td>길이 받드세</td>\n",
       "      <td>0</td>\n",
       "    </tr>\n",
       "    <tr>\n",
       "      <th>12</th>\n",
       "      <td>백두산 기상을 다 안고</td>\n",
       "      <td>2</td>\n",
       "    </tr>\n",
       "    <tr>\n",
       "      <th>13</th>\n",
       "      <td>근로의 정신은 깃들어</td>\n",
       "      <td>2</td>\n",
       "    </tr>\n",
       "    <tr>\n",
       "      <th>14</th>\n",
       "      <td>진리로 뭉쳐진 억센 뜻</td>\n",
       "      <td>2</td>\n",
       "    </tr>\n",
       "    <tr>\n",
       "      <th>15</th>\n",
       "      <td>온 세계 앞서 나가리</td>\n",
       "      <td>0</td>\n",
       "    </tr>\n",
       "    <tr>\n",
       "      <th>16</th>\n",
       "      <td>솟는 힘 노도도 내밀어</td>\n",
       "      <td>2</td>\n",
       "    </tr>\n",
       "    <tr>\n",
       "      <th>17</th>\n",
       "      <td>인민의 뜻으로 선 나라</td>\n",
       "      <td>1</td>\n",
       "    </tr>\n",
       "    <tr>\n",
       "      <th>18</th>\n",
       "      <td>한없이 부강하는 이 조선</td>\n",
       "      <td>2</td>\n",
       "    </tr>\n",
       "    <tr>\n",
       "      <th>19</th>\n",
       "      <td>길이 빛내세</td>\n",
       "      <td>0</td>\n",
       "    </tr>\n",
       "    <tr>\n",
       "      <th>20</th>\n",
       "      <td>솟는 힘 노도도 내밀어</td>\n",
       "      <td>2</td>\n",
       "    </tr>\n",
       "    <tr>\n",
       "      <th>21</th>\n",
       "      <td>인민의 뜻으로 선 나라</td>\n",
       "      <td>1</td>\n",
       "    </tr>\n",
       "    <tr>\n",
       "      <th>22</th>\n",
       "      <td>한없이 부강하는 이 조선</td>\n",
       "      <td>2</td>\n",
       "    </tr>\n",
       "    <tr>\n",
       "      <th>23</th>\n",
       "      <td>길이 빛내세</td>\n",
       "      <td>0</td>\n",
       "    </tr>\n",
       "  </tbody>\n",
       "</table>\n",
       "</div>"
      ],
      "text/plain": [
       "             lyric  cluster\n",
       "0     아침은 빛나라 이 강산        2\n",
       "1      은금에 자원도 가득한        1\n",
       "2    삼천리 아름다운 내 조국        2\n",
       "3       반만년 오랜 력사에        2\n",
       "4      찬란한 문화로 자라난        1\n",
       "5     슬기론 인민의 이 영광        1\n",
       "6   몸과 맘 다 바쳐 이 조선        2\n",
       "7           길이 받드세        0\n",
       "8      찬란한 문화로 자라난        1\n",
       "9     슬기론 인민의 이 영광        1\n",
       "10  몸과 맘 다 바쳐 이 조선        2\n",
       "11          길이 받드세        0\n",
       "12    백두산 기상을 다 안고        2\n",
       "13     근로의 정신은 깃들어        2\n",
       "14    진리로 뭉쳐진 억센 뜻        2\n",
       "15     온 세계 앞서 나가리        0\n",
       "16    솟는 힘 노도도 내밀어        2\n",
       "17    인민의 뜻으로 선 나라        1\n",
       "18   한없이 부강하는 이 조선        2\n",
       "19          길이 빛내세        0\n",
       "20    솟는 힘 노도도 내밀어        2\n",
       "21    인민의 뜻으로 선 나라        1\n",
       "22   한없이 부강하는 이 조선        2\n",
       "23          길이 빛내세        0"
      ]
     },
     "execution_count": 100,
     "metadata": {},
     "output_type": "execute_result"
    }
   ],
   "source": [
    "df = pd.DataFrame({'lyric': lyrics['PRK'], 'cluster': labels})\n",
    "df"
   ]
  },
  {
   "cell_type": "code",
   "execution_count": 103,
   "id": "2ce89c2d",
   "metadata": {},
   "outputs": [
    {
     "data": {
      "text/plain": [
       "Text(0.5, 1.0, 'Clusters identified visualized in language 2d using t-SNE')"
      ]
     },
     "execution_count": 103,
     "metadata": {},
     "output_type": "execute_result"
    },
    {
     "data": {
      "image/png": "[encoded data removed]",
      "text/plain": [
       "<Figure size 432x288 with 1 Axes>"
      ]
     },
     "metadata": {
      "needs_background": "light"
     },
     "output_type": "display_data"
    }
   ],
   "source": [
    "tsne = TSNE(n_components=2, perplexity=15, random_state=42, init=\"random\", learning_rate=200)\n",
    "vis_dims2 = tsne.fit_transform(embeddings['PRK'])\n",
    "\n",
    "x = [x for x, y in vis_dims2]\n",
    "y = [y for x, y in vis_dims2]\n",
    "\n",
    "for category, color in enumerate([\"purple\", \"green\", \"red\", \"blue\", \"black\"][:n_clusters]):\n",
    "    xs = np.array(x)[df.cluster == category]\n",
    "    ys = np.array(y)[df.cluster == category]\n",
    "    plt.scatter(xs, ys, color=color, alpha=0.3)\n",
    "\n",
    "    avg_x = xs.mean()\n",
    "    avg_y = ys.mean()\n",
    "\n",
    "    plt.scatter(avg_x, avg_y, marker=\"x\", color=color, s=100)\n",
    "plt.title(\"Clusters identified visualized in language 2d using t-SNE\")"
   ]
  },
  {
   "cell_type": "code",
   "execution_count": 104,
   "id": "cfe7b836",
   "metadata": {},
   "outputs": [
    {
     "name": "stdout",
     "output_type": "stream",
     "text": [
      "Cluster 0 Theme:  Perseverance and determination\n",
      "길이 받드세\n",
      "길이 빛내세\n",
      "온 세계 앞서 나가리\n",
      "----------------------------------------------------------------------------------------------------\n",
      "Cluster 1 Theme:  Pride in one's country and culture\n",
      "은금에 자원도 가득한\n",
      "찬란한 문화로 자라난\n",
      "인민의 뜻으로 선 나라\n",
      "----------------------------------------------------------------------------------------------------\n",
      "Cluster 2 Theme:  The beauty of Korea\n",
      "솟는 힘 노도도 내밀어\n",
      "한없이 부강하는 이 조선\n",
      "아침은 빛나라 이 강산\n",
      "----------------------------------------------------------------------------------------------------\n"
     ]
    }
   ],
   "source": [
    "rev_per_cluster = 3\n",
    "\n",
    "for i in range(n_clusters):\n",
    "    print(f\"Cluster {i} Theme:\", end=\" \")\n",
    "\n",
    "    lyrics = \"\\n\".join(\n",
    "        df[df.cluster == i]\n",
    "        .lyric\n",
    "        .sample(rev_per_cluster, random_state=42)\n",
    "        .values\n",
    "    )\n",
    "    response = openai.Completion.create(\n",
    "        engine=\"text-davinci-003\",\n",
    "        prompt=f'What do the following lyrics have in common?\\n\\nLyrics:\\n\"\"\"\\n{lyrics}\\n\"\"\"\\n\\nTheme:',\n",
    "        temperature=0,\n",
    "        max_tokens=64,\n",
    "        top_p=1,\n",
    "        frequency_penalty=0,\n",
    "        presence_penalty=0,\n",
    "    )\n",
    "    print(response[\"choices\"][0][\"text\"].replace(\"\\n\", \"\"))\n",
    "\n",
    "    sample_cluster_rows = df[df.cluster == i].sample(rev_per_cluster, random_state=42)\n",
    "    for j in range(rev_per_cluster):\n",
    "        print(sample_cluster_rows.lyric.values[j])\n",
    "\n",
    "    print(\"-\" * 100)"
   ]
  },
  {
   "cell_type": "code",
   "execution_count": null,
   "id": "1bd90fc1",
   "metadata": {},
   "outputs": [],
   "source": []
  }
 ],
 "metadata": {
  "kernelspec": {
   "display_name": "conda-forge",
   "language": "python",
   "name": "conda-forge"
  },
  "language_info": {
   "codemirror_mode": {
    "name": "ipython",
    "version": 3
   },
   "file_extension": ".py",
   "mimetype": "text/x-python",
   "name": "python",
   "nbconvert_exporter": "python",
   "pygments_lexer": "ipython3",
   "version": "3.9.7"
  }
 },
 "nbformat": 4,
 "nbformat_minor": 5
}
