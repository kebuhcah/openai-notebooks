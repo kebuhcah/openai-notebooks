{
 "cells": [
  {
   "cell_type": "code",
   "execution_count": 10,
   "metadata": {},
   "outputs": [],
   "source": [
    "import tiktoken\n",
    "\n",
    "# How to use: https://github.com/openai/openai-cookbook/blob/main/examples/How_to_count_tokens_with_tiktoken.ipynb\n",
    "\n",
    "encoding = tiktoken.encoding_for_model(\"gpt-3.5-turbo\") # Encoding 'cl100k_base'"
   ]
  },
  {
   "cell_type": "code",
   "execution_count": 30,
   "metadata": {},
   "outputs": [
    {
     "name": "stdout",
     "output_type": "stream",
     "text": [
      "Das  Ziel  der  Wikipedia  ist  der  Auf bau  einer  En zy k lop ä die  durch  frei will ige  und  eh ren amt liche  Autor innen  und  Aut oren .\n"
     ]
    }
   ],
   "source": [
    "jap_text = \"ウィキペディアは、信頼されるフリーな百科事典を、それも、質においても量においても史上最高の百科事典を目指して、共同作業で創り上げるプロジェクトです。\"\n",
    "kor_text = \"위키백과는 누구나 편집할 수 있는 다중 언어 웹 기반 자유 콘텐츠 백과사전 프로젝트입니다.\"\n",
    "ch_text = \"維基百科是一個自由內容、公開編輯且多語言的網络百科全書協作计划，透過Wiki技術使得包括您在內的所有人都可以簡單地使用網頁瀏覽器修改其中的內容。\"\n",
    "viet_text = \"Wikipedia là một bách khoa toàn thư tự do, là kết quả của sự cộng tác của chính những người đọc từ khắp nơi trên thế giới.\"\n",
    "ru_text = \"Википедия — общедоступная многоязычная универсальная интернет-энциклопедия со свободным контентом, реализованная на принципах вики.\"\n",
    "en_text = \"Wikipedia is a dynamic free online encyclopedia that anyone can edit in good faith, and tens of millions already have!\"\n",
    "es_text = \"Wikipedia en español es la versión en español de Wikipedia, un proyecto de enciclopedia web multilingüe de contenido libre basado en un modelo de edición abierta. Wikipedia crece cada día gracias a la participación de gente de todo el mundo, siendo el mayor proyecto de recopilación de conocimiento jamás realizado en la historia de la humanidad.\"\n",
    "de_text = \"Das Ziel der Wikipedia ist der Aufbau einer Enzyklopädie durch freiwillige und ehrenamtliche Autorinnen und Autoren.\"\n",
    "\n",
    "tokens = encoding.encode(de_text)\n",
    "print(' '.join([encoding.decode([token]) for token in tokens]))"
   ]
  },
  {
   "cell_type": "code",
   "execution_count": 37,
   "metadata": {},
   "outputs": [
    {
     "data": {
      "text/plain": [
       "12"
      ]
     },
     "execution_count": 37,
     "metadata": {},
     "output_type": "execute_result"
    }
   ],
   "source": []
  }
 ],
 "metadata": {
  "kernelspec": {
   "display_name": "conda-forge",
   "language": "python",
   "name": "conda-forge"
  },
  "language_info": {
   "codemirror_mode": {
    "name": "ipython",
    "version": 3
   },
   "file_extension": ".py",
   "mimetype": "text/x-python",
   "name": "python",
   "nbconvert_exporter": "python",
   "pygments_lexer": "ipython3",
   "version": "3.9.7"
  },
  "orig_nbformat": 4,
  "vscode": {
   "interpreter": {
    "hash": "b0fa6594d8f4cbf19f97940f81e996739fb7646882a419484c72d19e05852a7e"
   }
  }
 },
 "nbformat": 4,
 "nbformat_minor": 2
}
